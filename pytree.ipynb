{
  "nbformat": 4,
  "nbformat_minor": 0,
  "metadata": {
    "colab": {
      "name": "pytree.ipynb",
      "provenance": [],
      "authorship_tag": "ABX9TyM7Gp+uHdARHjhzv5jv553y",
      "include_colab_link": true
    },
    "kernelspec": {
      "name": "python3",
      "display_name": "Python 3"
    },
    "language_info": {
      "name": "python"
    }
  },
  "cells": [
    {
      "cell_type": "markdown",
      "metadata": {
        "id": "view-in-github",
        "colab_type": "text"
      },
      "source": [
        "<a href=\"https://colab.research.google.com/github/teruyuki-yamasaki/HelloBrax/blob/main/pytree.ipynb\" target=\"_parent\"><img src=\"https://colab.research.google.com/assets/colab-badge.svg\" alt=\"Open In Colab\"/></a>"
      ]
    },
    {
      "cell_type": "markdown",
      "source": [
        "[Pytrees](https://jax.readthedocs.io/en/latest/pytrees.html)\n",
        "\n",
        "## What is a pytree?\n",
        "- a tree-like structure build out of container-like Python objects. "
      ],
      "metadata": {
        "id": "eHN1MsD4HQGM"
      }
    },
    {
      "cell_type": "markdown",
      "source": [
        "## Internal pytree handling\n",
        "- JAX flattens pytrees into lists of leaves \n",
        "- while encoding their original tree strucures  (treedef)\n",
        "- to easily apply on the leaves the operations that take and return array(s)\n",
        "\n",
        "\n",
        "JAX flattens pytrees into lists of leaves at the api.py boundary (and also in control flow primitives). This keeps downstream JAX internals simpler: transformations like grad(), jit(), and vmap() can handle user functions that accept and return the myriad different Python containers, while all the other parts of the system can operate on functions that only take (multiple) array arguments and always return a flat list of arrays.\n",
        "\n",
        "When JAX flattens a pytree it will produce a list of leaves and a treedef object that encodes the structure of the original value. The treedef can then be used to construct a matching structured value after transforming the leaves. Pytrees are tree-like, rather than DAG-like or graph-like, in that we handle them assuming referential transparency and that they can’t contain reference cycles."
      ],
      "metadata": {
        "id": "Ag9q2cFcIKQ-"
      }
    },
    {
      "cell_type": "code",
      "execution_count": 4,
      "metadata": {
        "colab": {
          "base_uri": "https://localhost:8080/"
        },
        "id": "KerA50fKHK36",
        "outputId": "40b40405-3b6c-4ac7-ea4e-2b1b18297789"
      },
      "outputs": [
        {
          "output_type": "stream",
          "name": "stdout",
          "text": [
            "value_flat=[1.0, 2.0, 3.0]\n",
            "value_tree=PyTreeDef([*, (*, *)])\n",
            "transformed_flat=[2.0, 4.0, 6.0]\n",
            "transformed_structured=[2.0, (4.0, 6.0)]\n"
          ]
        }
      ],
      "source": [
        "import jax \n",
        "import jax.numpy as jnp \n",
        "from jax import tree_flatten, tree_unflatten\n",
        "\n",
        "# The structured value to be transformed\n",
        "value_structured = [1., (2., 3.)]\n",
        "\n",
        "# The leaves in value_flat correspond to the `*` markers in value_tree\n",
        "value_flat, value_tree = tree_flatten(value_structured)\n",
        "print(\"value_flat={}\\nvalue_tree={}\".format(value_flat, value_tree))\n",
        "\n",
        "# Transform the flat value list using an element-wise numeric transformer\n",
        "transformed_flat = list(map(lambda v: v * 2., value_flat))\n",
        "print(\"transformed_flat={}\".format(transformed_flat))\n",
        "\n",
        "# Reconstruct the structured output, using the original\n",
        "transformed_structured = tree_unflatten(value_tree, transformed_flat)\n",
        "print(\"transformed_structured={}\".format(transformed_structured))"
      ]
    },
    {
      "cell_type": "markdown",
      "source": [
        "By default, pytree containers can be lists, tuples, dicts, namedtuple, None, OrderedDict. Other types of values, including numeric and ndarray values, are treated as leaves:"
      ],
      "metadata": {
        "id": "RqUqqZB4J0LG"
      }
    },
    {
      "cell_type": "code",
      "source": [
        "from collections import namedtuple\n",
        "Point = namedtuple('Point', ['x', 'y'])\n",
        "\n",
        "example_containers = [\n",
        "    (1., [2., 3.]),\n",
        "    (1., {'b': 2., 'a': 3.}),\n",
        "    1.,\n",
        "    None,\n",
        "    jnp.zeros(2),\n",
        "    Point(1., 2.)\n",
        "]\n",
        "def show_example(structured):\n",
        "  flat, tree = tree_flatten(structured)\n",
        "  unflattened = tree_unflatten(tree, flat)\n",
        "  print(\"structured={}\\n  flat={}\\n  tree={}\\n  unflattened={}\".\\\n",
        "        format(structured, flat, tree, unflattened))\n",
        "  print()\n",
        "\n",
        "for structured in example_containers:\n",
        "  show_example(structured)"
      ],
      "metadata": {
        "colab": {
          "base_uri": "https://localhost:8080/"
        },
        "id": "6ZnQUaWaJV3b",
        "outputId": "34e43498-74ca-4f2f-efe3-5cab3a14a1ef"
      },
      "execution_count": 7,
      "outputs": [
        {
          "output_type": "stream",
          "name": "stdout",
          "text": [
            "structured=(1.0, [2.0, 3.0])\n",
            "  flat=[1.0, 2.0, 3.0]\n",
            "  tree=PyTreeDef((*, [*, *]))\n",
            "  unflattened=(1.0, [2.0, 3.0])\n",
            "\n",
            "structured=(1.0, {'b': 2.0, 'a': 3.0})\n",
            "  flat=[1.0, 3.0, 2.0]\n",
            "  tree=PyTreeDef((*, {'a': *, 'b': *}))\n",
            "  unflattened=(1.0, {'a': 3.0, 'b': 2.0})\n",
            "\n",
            "structured=1.0\n",
            "  flat=[1.0]\n",
            "  tree=PyTreeDef(*)\n",
            "  unflattened=1.0\n",
            "\n",
            "structured=None\n",
            "  flat=[]\n",
            "  tree=PyTreeDef(None)\n",
            "  unflattened=None\n",
            "\n",
            "structured=[0. 0.]\n",
            "  flat=[DeviceArray([0., 0.], dtype=float32)]\n",
            "  tree=PyTreeDef(*)\n",
            "  unflattened=[0. 0.]\n",
            "\n",
            "structured=Point(x=1.0, y=2.0)\n",
            "  flat=[1.0, 2.0]\n",
            "  tree=PyTreeDef(CustomNode(namedtuple[<class '__main__.Point'>], [*, *]))\n",
            "  unflattened=Point(x=1.0, y=2.0)\n",
            "\n"
          ]
        }
      ]
    },
    {
      "cell_type": "markdown",
      "source": [
        "## Extending pytrees\n",
        "By default, any part of a structured value that is not recognized as an internal pytree node (i.e. container-like) is treated as a leaf:"
      ],
      "metadata": {
        "id": "vQs-oz9UKO5d"
      }
    },
    {
      "cell_type": "code",
      "source": [
        "class Special(object):\n",
        "  def __init__(self, x, y):\n",
        "    self.x = x\n",
        "    self.y = y\n",
        "\n",
        "show_example(Special(1., 2.))\n",
        "\n",
        "class Special(object):\n",
        "  def __init__(self, x, y):\n",
        "    self.x = x\n",
        "    self.y = y\n",
        "\n",
        "  def __repr__(self):\n",
        "    return \"Special(x={}, y={})\".format(self.x, self.y)\n",
        "\n",
        "show_example(Special(1., 2.))"
      ],
      "metadata": {
        "colab": {
          "base_uri": "https://localhost:8080/"
        },
        "id": "F3zrrUK9J3l3",
        "outputId": "3366aa6e-6310-4cfe-abb2-54ebe252d048"
      },
      "execution_count": 10,
      "outputs": [
        {
          "output_type": "stream",
          "name": "stdout",
          "text": [
            "structured=<__main__.Special object at 0x7fb983a04cd0>\n",
            "  flat=[<__main__.Special object at 0x7fb983a04cd0>]\n",
            "  tree=PyTreeDef(*)\n",
            "  unflattened=<__main__.Special object at 0x7fb983a04cd0>\n",
            "\n",
            "structured=Special(x=1.0, y=2.0)\n",
            "  flat=[Special(x=1.0, y=2.0)]\n",
            "  tree=PyTreeDef(*)\n",
            "  unflattened=Special(x=1.0, y=2.0)\n",
            "\n"
          ]
        }
      ]
    },
    {
      "cell_type": "markdown",
      "source": [
        "In the above example, you can see that the istance of ``Special`` is treated as a leaf. "
      ],
      "metadata": {
        "id": "hyxLEOggLW6O"
      }
    },
    {
      "cell_type": "markdown",
      "source": [
        "The set of Python types that are considered internal pytree nodes is extensible, through a global registry of types, and values of registered types are traversed recursively. To register a new type, you can use register_pytree_node():"
      ],
      "metadata": {
        "id": "k5TQmAG7Lrfa"
      }
    },
    {
      "cell_type": "code",
      "source": [
        "from jax.tree_util import register_pytree_node\n",
        "\n",
        "class RegisteredSpecial(Special):\n",
        "  def __repr__(self):\n",
        "    return \"RegisteredSpecial(x={}, y={})\".format(self.x, self.y)\n",
        "\n",
        "def special_flatten(v):\n",
        "  \"\"\"Specifies a flattening recipe.\n",
        "\n",
        "  Params:\n",
        "    v: the value of registered type to flatten.\n",
        "  Returns:\n",
        "    a pair of an iterable with the children to be flattened recursively,\n",
        "    and some opaque auxiliary data to pass back to the unflattening recipe.\n",
        "    The auxiliary data is stored in the treedef for use during unflattening.\n",
        "    The auxiliary data could be used, e.g., for dictionary keys.\n",
        "  \"\"\"\n",
        "  children = (v.x, v.y)\n",
        "  aux_data = None\n",
        "  return (children, aux_data)\n",
        "\n",
        "def special_unflatten(aux_data, children):\n",
        "  \"\"\"Specifies an unflattening recipe.\n",
        "\n",
        "  Params:\n",
        "    aux_data: the opaque data that was specified during flattening of the\n",
        "      current treedef.\n",
        "    children: the unflattened children\n",
        "\n",
        "  Returns:\n",
        "    a re-constructed object of the registered type, using the specified\n",
        "    children and auxiliary data.\n",
        "  \"\"\"\n",
        "  return RegisteredSpecial(*children)\n",
        "\n",
        "# Global registration\n",
        "register_pytree_node(\n",
        "    RegisteredSpecial,  # tell JAX which class you want to register as am extended pytree node\n",
        "    special_flatten,    # tell JAX what are the children nodes\n",
        "    special_unflatten   # tell JAX how to pack back into a RegisteredSpecial\n",
        ")\n",
        "\n",
        "show_example(RegisteredSpecial(1., 2.))"
      ],
      "metadata": {
        "colab": {
          "base_uri": "https://localhost:8080/"
        },
        "id": "vYdqLMeIKbrK",
        "outputId": "dbc3e184-845c-46cc-d4d0-ae238119b839"
      },
      "execution_count": 12,
      "outputs": [
        {
          "output_type": "stream",
          "name": "stdout",
          "text": [
            "structured=RegisteredSpecial(x=1.0, y=2.0)\n",
            "  flat=[1.0, 2.0]\n",
            "  tree=PyTreeDef(CustomNode(<class '__main__.RegisteredSpecial'>[None], [*, *]))\n",
            "  unflattened=RegisteredSpecial(x=1.0, y=2.0)\n",
            "\n"
          ]
        }
      ]
    },
    {
      "cell_type": "code",
      "source": [
        "class RegisteredSpecial3(Special):\n",
        "  def __repr__(self):\n",
        "    return \"RegisteredSpecial(x={}, y={})\".format(self.x, self.y)\n",
        "    \n",
        "register_pytree_node(\n",
        "    RegisteredSpecial3,\n",
        "    lambda cls: ((cls.x, cls.y), None),              \n",
        "    lambda _, args: RegisteredSpecial3(*args) \n",
        ")\n",
        "show_example(RegisteredSpecial(1., 2.))"
      ],
      "metadata": {
        "colab": {
          "base_uri": "https://localhost:8080/"
        },
        "id": "QH1VappCR-eW",
        "outputId": "8861db17-4132-41ba-8fb0-0de086e4bdf3"
      },
      "execution_count": 20,
      "outputs": [
        {
          "output_type": "stream",
          "name": "stdout",
          "text": [
            "structured=RegisteredSpecial(x=1.0, y=2.0)\n",
            "  flat=[1.0, 2.0]\n",
            "  tree=PyTreeDef(CustomNode(<class '__main__.RegisteredSpecial'>[None], [*, *]))\n",
            "  unflattened=RegisteredSpecial(x=1.0, y=2.0)\n",
            "\n"
          ]
        }
      ]
    },
    {
      "cell_type": "markdown",
      "source": [
        "Now ``RegisteredSpecial`` is recognized by JAX as a pytree node, not a leave. \n",
        "Its variabels ``x`` and ``y`` are each recognized as a leaf at the same level."
      ],
      "metadata": {
        "id": "tiBicLB7NT5y"
      }
    },
    {
      "cell_type": "markdown",
      "source": [
        "Alternatively, you can define appropriate tree_flatten and tree_unflatten methods on your class and decorate it with register_pytree_node_class():"
      ],
      "metadata": {
        "id": "CLK5KzR6N4Ld"
      }
    },
    {
      "cell_type": "code",
      "source": [
        "from jax.tree_util import register_pytree_node_class \n",
        "\n",
        "@register_pytree_node_class \n",
        "class RegisteredSpecial2(Special):\n",
        "    def __repr__(self):\n",
        "        return \"RegisteredSpecial2(x={},y={})\".format(self.x, self.y)\n",
        "    \n",
        "    def tree_flatten(self):\n",
        "        children = (self.x, self.y)\n",
        "        aux_data = None\n",
        "        return (children, aux_data)\n",
        "    \n",
        "    @classmethod \n",
        "    def tree_unflatten(cls, aux_data, children):\n",
        "        return cls(*children)\n",
        "\n",
        "show_example(RegisteredSpecial2(1.,2.))"
      ],
      "metadata": {
        "colab": {
          "base_uri": "https://localhost:8080/"
        },
        "id": "I6mSXGAAMblD",
        "outputId": "78484c35-d592-4d86-b93b-a07757e36bb6"
      },
      "execution_count": 16,
      "outputs": [
        {
          "output_type": "stream",
          "name": "stdout",
          "text": [
            "structured=RegisteredSpecial2(x=1.0,y=2.0)\n",
            "  flat=[1.0, 2.0]\n",
            "  tree=PyTreeDef(CustomNode(<class '__main__.RegisteredSpecial2'>[None], [*, *]))\n",
            "  unflattened=RegisteredSpecial2(x=1.0,y=2.0)\n",
            "\n"
          ]
        }
      ]
    },
    {
      "cell_type": "markdown",
      "source": [
        "JAX sometimes needs to compare treedef for equality. Therefore, care must be taken to ensure that the auxiliary data specified in the flattening recipe supports a meaningful equality comparison.\n",
        "\n",
        "The whole set of functions for operating on pytrees are in jax.tree_util.\n",
        "\n"
      ],
      "metadata": {
        "id": "qSDskl68Q4jw"
      }
    },
    {
      "cell_type": "code",
      "source": [
        ""
      ],
      "metadata": {
        "id": "32FeF5LMPc-C"
      },
      "execution_count": null,
      "outputs": []
    }
  ]
}