{
  "nbformat": 4,
  "nbformat_minor": 0,
  "metadata": {
    "colab": {
      "name": "jax0.ipynb",
      "provenance": [],
      "authorship_tag": "ABX9TyNfKy+rj0ZIgEJ5dydwlhcc",
      "include_colab_link": true
    },
    "kernelspec": {
      "name": "python3",
      "display_name": "Python 3"
    },
    "language_info": {
      "name": "python"
    },
    "accelerator": "GPU",
    "widgets": {
      "application/vnd.jupyter.widget-state+json": {
        "39cd5fa1a65c492aa8ff2698822ba170": {
          "model_module": "@jupyter-widgets/controls",
          "model_name": "HBoxModel",
          "model_module_version": "1.5.0",
          "state": {
            "_dom_classes": [],
            "_model_module": "@jupyter-widgets/controls",
            "_model_module_version": "1.5.0",
            "_model_name": "HBoxModel",
            "_view_count": null,
            "_view_module": "@jupyter-widgets/controls",
            "_view_module_version": "1.5.0",
            "_view_name": "HBoxView",
            "box_style": "",
            "children": [
              "IPY_MODEL_3323ba043a2048cb9820b18849e6895f",
              "IPY_MODEL_bf9a8ceba3244d13af2018fbe8cdf2db",
              "IPY_MODEL_906400535c9240d4bcf19068b944c603"
            ],
            "layout": "IPY_MODEL_8fb035f652884ac99044885f572aaa32"
          }
        },
        "3323ba043a2048cb9820b18849e6895f": {
          "model_module": "@jupyter-widgets/controls",
          "model_name": "HTMLModel",
          "model_module_version": "1.5.0",
          "state": {
            "_dom_classes": [],
            "_model_module": "@jupyter-widgets/controls",
            "_model_module_version": "1.5.0",
            "_model_name": "HTMLModel",
            "_view_count": null,
            "_view_module": "@jupyter-widgets/controls",
            "_view_module_version": "1.5.0",
            "_view_name": "HTMLView",
            "description": "",
            "description_tooltip": null,
            "layout": "IPY_MODEL_abaab539fb9a4573a0bff1acd4bf3c5f",
            "placeholder": "​",
            "style": "IPY_MODEL_e2e240bbe1ee43bbaf420bdc1fbec5c4",
            "value": "Traininig...: 100%"
          }
        },
        "bf9a8ceba3244d13af2018fbe8cdf2db": {
          "model_module": "@jupyter-widgets/controls",
          "model_name": "FloatProgressModel",
          "model_module_version": "1.5.0",
          "state": {
            "_dom_classes": [],
            "_model_module": "@jupyter-widgets/controls",
            "_model_module_version": "1.5.0",
            "_model_name": "FloatProgressModel",
            "_view_count": null,
            "_view_module": "@jupyter-widgets/controls",
            "_view_module_version": "1.5.0",
            "_view_name": "ProgressView",
            "bar_style": "success",
            "description": "",
            "description_tooltip": null,
            "layout": "IPY_MODEL_b4b9b5a849664ab796c4f6628a5b6974",
            "max": 2000,
            "min": 0,
            "orientation": "horizontal",
            "style": "IPY_MODEL_b702a036454241ec86c2311a259292c0",
            "value": 2000
          }
        },
        "906400535c9240d4bcf19068b944c603": {
          "model_module": "@jupyter-widgets/controls",
          "model_name": "HTMLModel",
          "model_module_version": "1.5.0",
          "state": {
            "_dom_classes": [],
            "_model_module": "@jupyter-widgets/controls",
            "_model_module_version": "1.5.0",
            "_model_name": "HTMLModel",
            "_view_count": null,
            "_view_module": "@jupyter-widgets/controls",
            "_view_module_version": "1.5.0",
            "_view_name": "HTMLView",
            "description": "",
            "description_tooltip": null,
            "layout": "IPY_MODEL_6496e22f96ce408fb7614699e13ebd12",
            "placeholder": "​",
            "style": "IPY_MODEL_91c0117e36a44c678ad571e7df241273",
            "value": " 2000/2000 [00:00&lt;00:00, 3659.43it/s]"
          }
        },
        "8fb035f652884ac99044885f572aaa32": {
          "model_module": "@jupyter-widgets/base",
          "model_name": "LayoutModel",
          "model_module_version": "1.2.0",
          "state": {
            "_model_module": "@jupyter-widgets/base",
            "_model_module_version": "1.2.0",
            "_model_name": "LayoutModel",
            "_view_count": null,
            "_view_module": "@jupyter-widgets/base",
            "_view_module_version": "1.2.0",
            "_view_name": "LayoutView",
            "align_content": null,
            "align_items": null,
            "align_self": null,
            "border": null,
            "bottom": null,
            "display": null,
            "flex": null,
            "flex_flow": null,
            "grid_area": null,
            "grid_auto_columns": null,
            "grid_auto_flow": null,
            "grid_auto_rows": null,
            "grid_column": null,
            "grid_gap": null,
            "grid_row": null,
            "grid_template_areas": null,
            "grid_template_columns": null,
            "grid_template_rows": null,
            "height": null,
            "justify_content": null,
            "justify_items": null,
            "left": null,
            "margin": null,
            "max_height": null,
            "max_width": null,
            "min_height": null,
            "min_width": null,
            "object_fit": null,
            "object_position": null,
            "order": null,
            "overflow": null,
            "overflow_x": null,
            "overflow_y": null,
            "padding": null,
            "right": null,
            "top": null,
            "visibility": null,
            "width": null
          }
        },
        "abaab539fb9a4573a0bff1acd4bf3c5f": {
          "model_module": "@jupyter-widgets/base",
          "model_name": "LayoutModel",
          "model_module_version": "1.2.0",
          "state": {
            "_model_module": "@jupyter-widgets/base",
            "_model_module_version": "1.2.0",
            "_model_name": "LayoutModel",
            "_view_count": null,
            "_view_module": "@jupyter-widgets/base",
            "_view_module_version": "1.2.0",
            "_view_name": "LayoutView",
            "align_content": null,
            "align_items": null,
            "align_self": null,
            "border": null,
            "bottom": null,
            "display": null,
            "flex": null,
            "flex_flow": null,
            "grid_area": null,
            "grid_auto_columns": null,
            "grid_auto_flow": null,
            "grid_auto_rows": null,
            "grid_column": null,
            "grid_gap": null,
            "grid_row": null,
            "grid_template_areas": null,
            "grid_template_columns": null,
            "grid_template_rows": null,
            "height": null,
            "justify_content": null,
            "justify_items": null,
            "left": null,
            "margin": null,
            "max_height": null,
            "max_width": null,
            "min_height": null,
            "min_width": null,
            "object_fit": null,
            "object_position": null,
            "order": null,
            "overflow": null,
            "overflow_x": null,
            "overflow_y": null,
            "padding": null,
            "right": null,
            "top": null,
            "visibility": null,
            "width": null
          }
        },
        "e2e240bbe1ee43bbaf420bdc1fbec5c4": {
          "model_module": "@jupyter-widgets/controls",
          "model_name": "DescriptionStyleModel",
          "model_module_version": "1.5.0",
          "state": {
            "_model_module": "@jupyter-widgets/controls",
            "_model_module_version": "1.5.0",
            "_model_name": "DescriptionStyleModel",
            "_view_count": null,
            "_view_module": "@jupyter-widgets/base",
            "_view_module_version": "1.2.0",
            "_view_name": "StyleView",
            "description_width": ""
          }
        },
        "b4b9b5a849664ab796c4f6628a5b6974": {
          "model_module": "@jupyter-widgets/base",
          "model_name": "LayoutModel",
          "model_module_version": "1.2.0",
          "state": {
            "_model_module": "@jupyter-widgets/base",
            "_model_module_version": "1.2.0",
            "_model_name": "LayoutModel",
            "_view_count": null,
            "_view_module": "@jupyter-widgets/base",
            "_view_module_version": "1.2.0",
            "_view_name": "LayoutView",
            "align_content": null,
            "align_items": null,
            "align_self": null,
            "border": null,
            "bottom": null,
            "display": null,
            "flex": null,
            "flex_flow": null,
            "grid_area": null,
            "grid_auto_columns": null,
            "grid_auto_flow": null,
            "grid_auto_rows": null,
            "grid_column": null,
            "grid_gap": null,
            "grid_row": null,
            "grid_template_areas": null,
            "grid_template_columns": null,
            "grid_template_rows": null,
            "height": null,
            "justify_content": null,
            "justify_items": null,
            "left": null,
            "margin": null,
            "max_height": null,
            "max_width": null,
            "min_height": null,
            "min_width": null,
            "object_fit": null,
            "object_position": null,
            "order": null,
            "overflow": null,
            "overflow_x": null,
            "overflow_y": null,
            "padding": null,
            "right": null,
            "top": null,
            "visibility": null,
            "width": null
          }
        },
        "b702a036454241ec86c2311a259292c0": {
          "model_module": "@jupyter-widgets/controls",
          "model_name": "ProgressStyleModel",
          "model_module_version": "1.5.0",
          "state": {
            "_model_module": "@jupyter-widgets/controls",
            "_model_module_version": "1.5.0",
            "_model_name": "ProgressStyleModel",
            "_view_count": null,
            "_view_module": "@jupyter-widgets/base",
            "_view_module_version": "1.2.0",
            "_view_name": "StyleView",
            "bar_color": null,
            "description_width": ""
          }
        },
        "6496e22f96ce408fb7614699e13ebd12": {
          "model_module": "@jupyter-widgets/base",
          "model_name": "LayoutModel",
          "model_module_version": "1.2.0",
          "state": {
            "_model_module": "@jupyter-widgets/base",
            "_model_module_version": "1.2.0",
            "_model_name": "LayoutModel",
            "_view_count": null,
            "_view_module": "@jupyter-widgets/base",
            "_view_module_version": "1.2.0",
            "_view_name": "LayoutView",
            "align_content": null,
            "align_items": null,
            "align_self": null,
            "border": null,
            "bottom": null,
            "display": null,
            "flex": null,
            "flex_flow": null,
            "grid_area": null,
            "grid_auto_columns": null,
            "grid_auto_flow": null,
            "grid_auto_rows": null,
            "grid_column": null,
            "grid_gap": null,
            "grid_row": null,
            "grid_template_areas": null,
            "grid_template_columns": null,
            "grid_template_rows": null,
            "height": null,
            "justify_content": null,
            "justify_items": null,
            "left": null,
            "margin": null,
            "max_height": null,
            "max_width": null,
            "min_height": null,
            "min_width": null,
            "object_fit": null,
            "object_position": null,
            "order": null,
            "overflow": null,
            "overflow_x": null,
            "overflow_y": null,
            "padding": null,
            "right": null,
            "top": null,
            "visibility": null,
            "width": null
          }
        },
        "91c0117e36a44c678ad571e7df241273": {
          "model_module": "@jupyter-widgets/controls",
          "model_name": "DescriptionStyleModel",
          "model_module_version": "1.5.0",
          "state": {
            "_model_module": "@jupyter-widgets/controls",
            "_model_module_version": "1.5.0",
            "_model_name": "DescriptionStyleModel",
            "_view_count": null,
            "_view_module": "@jupyter-widgets/base",
            "_view_module_version": "1.2.0",
            "_view_name": "StyleView",
            "description_width": ""
          }
        },
        "c9f07b0465204fdd9a23daee3fb8c151": {
          "model_module": "@jupyter-widgets/controls",
          "model_name": "HBoxModel",
          "model_module_version": "1.5.0",
          "state": {
            "_dom_classes": [],
            "_model_module": "@jupyter-widgets/controls",
            "_model_module_version": "1.5.0",
            "_model_name": "HBoxModel",
            "_view_count": null,
            "_view_module": "@jupyter-widgets/controls",
            "_view_module_version": "1.5.0",
            "_view_name": "HBoxView",
            "box_style": "",
            "children": [
              "IPY_MODEL_56c0b4db76224391ae5515ab16b60ad3",
              "IPY_MODEL_b34b62e9ef5d46c2b86f4b0b9e2c9d7a",
              "IPY_MODEL_b263c3c61de8414c9cfea620d6e3d78d"
            ],
            "layout": "IPY_MODEL_347ff6cddff843a3b08962984ac59bd4"
          }
        },
        "56c0b4db76224391ae5515ab16b60ad3": {
          "model_module": "@jupyter-widgets/controls",
          "model_name": "HTMLModel",
          "model_module_version": "1.5.0",
          "state": {
            "_dom_classes": [],
            "_model_module": "@jupyter-widgets/controls",
            "_model_module_version": "1.5.0",
            "_model_name": "HTMLModel",
            "_view_count": null,
            "_view_module": "@jupyter-widgets/controls",
            "_view_module_version": "1.5.0",
            "_view_name": "HTMLView",
            "description": "",
            "description_tooltip": null,
            "layout": "IPY_MODEL_3b9f37d6289e4cf2a8a00d2b2b75fde0",
            "placeholder": "​",
            "style": "IPY_MODEL_6a2b755b72c345de93c47ebc54889d2a",
            "value": "training...: 100%"
          }
        },
        "b34b62e9ef5d46c2b86f4b0b9e2c9d7a": {
          "model_module": "@jupyter-widgets/controls",
          "model_name": "FloatProgressModel",
          "model_module_version": "1.5.0",
          "state": {
            "_dom_classes": [],
            "_model_module": "@jupyter-widgets/controls",
            "_model_module_version": "1.5.0",
            "_model_name": "FloatProgressModel",
            "_view_count": null,
            "_view_module": "@jupyter-widgets/controls",
            "_view_module_version": "1.5.0",
            "_view_name": "ProgressView",
            "bar_style": "success",
            "description": "",
            "description_tooltip": null,
            "layout": "IPY_MODEL_1f90f34797ad45b18a2797e26c870caa",
            "max": 1000,
            "min": 0,
            "orientation": "horizontal",
            "style": "IPY_MODEL_321afc3e0b9346fe8efa107dd3c98f67",
            "value": 1000
          }
        },
        "b263c3c61de8414c9cfea620d6e3d78d": {
          "model_module": "@jupyter-widgets/controls",
          "model_name": "HTMLModel",
          "model_module_version": "1.5.0",
          "state": {
            "_dom_classes": [],
            "_model_module": "@jupyter-widgets/controls",
            "_model_module_version": "1.5.0",
            "_model_name": "HTMLModel",
            "_view_count": null,
            "_view_module": "@jupyter-widgets/controls",
            "_view_module_version": "1.5.0",
            "_view_name": "HTMLView",
            "description": "",
            "description_tooltip": null,
            "layout": "IPY_MODEL_a235ef31429241d5831a5d3c054e64dd",
            "placeholder": "​",
            "style": "IPY_MODEL_c76bde5c7c4647dea5b70cec7d8064da",
            "value": " 1000/1000 [00:01&lt;00:00, 1251.81it/s]"
          }
        },
        "347ff6cddff843a3b08962984ac59bd4": {
          "model_module": "@jupyter-widgets/base",
          "model_name": "LayoutModel",
          "model_module_version": "1.2.0",
          "state": {
            "_model_module": "@jupyter-widgets/base",
            "_model_module_version": "1.2.0",
            "_model_name": "LayoutModel",
            "_view_count": null,
            "_view_module": "@jupyter-widgets/base",
            "_view_module_version": "1.2.0",
            "_view_name": "LayoutView",
            "align_content": null,
            "align_items": null,
            "align_self": null,
            "border": null,
            "bottom": null,
            "display": null,
            "flex": null,
            "flex_flow": null,
            "grid_area": null,
            "grid_auto_columns": null,
            "grid_auto_flow": null,
            "grid_auto_rows": null,
            "grid_column": null,
            "grid_gap": null,
            "grid_row": null,
            "grid_template_areas": null,
            "grid_template_columns": null,
            "grid_template_rows": null,
            "height": null,
            "justify_content": null,
            "justify_items": null,
            "left": null,
            "margin": null,
            "max_height": null,
            "max_width": null,
            "min_height": null,
            "min_width": null,
            "object_fit": null,
            "object_position": null,
            "order": null,
            "overflow": null,
            "overflow_x": null,
            "overflow_y": null,
            "padding": null,
            "right": null,
            "top": null,
            "visibility": null,
            "width": null
          }
        },
        "3b9f37d6289e4cf2a8a00d2b2b75fde0": {
          "model_module": "@jupyter-widgets/base",
          "model_name": "LayoutModel",
          "model_module_version": "1.2.0",
          "state": {
            "_model_module": "@jupyter-widgets/base",
            "_model_module_version": "1.2.0",
            "_model_name": "LayoutModel",
            "_view_count": null,
            "_view_module": "@jupyter-widgets/base",
            "_view_module_version": "1.2.0",
            "_view_name": "LayoutView",
            "align_content": null,
            "align_items": null,
            "align_self": null,
            "border": null,
            "bottom": null,
            "display": null,
            "flex": null,
            "flex_flow": null,
            "grid_area": null,
            "grid_auto_columns": null,
            "grid_auto_flow": null,
            "grid_auto_rows": null,
            "grid_column": null,
            "grid_gap": null,
            "grid_row": null,
            "grid_template_areas": null,
            "grid_template_columns": null,
            "grid_template_rows": null,
            "height": null,
            "justify_content": null,
            "justify_items": null,
            "left": null,
            "margin": null,
            "max_height": null,
            "max_width": null,
            "min_height": null,
            "min_width": null,
            "object_fit": null,
            "object_position": null,
            "order": null,
            "overflow": null,
            "overflow_x": null,
            "overflow_y": null,
            "padding": null,
            "right": null,
            "top": null,
            "visibility": null,
            "width": null
          }
        },
        "6a2b755b72c345de93c47ebc54889d2a": {
          "model_module": "@jupyter-widgets/controls",
          "model_name": "DescriptionStyleModel",
          "model_module_version": "1.5.0",
          "state": {
            "_model_module": "@jupyter-widgets/controls",
            "_model_module_version": "1.5.0",
            "_model_name": "DescriptionStyleModel",
            "_view_count": null,
            "_view_module": "@jupyter-widgets/base",
            "_view_module_version": "1.2.0",
            "_view_name": "StyleView",
            "description_width": ""
          }
        },
        "1f90f34797ad45b18a2797e26c870caa": {
          "model_module": "@jupyter-widgets/base",
          "model_name": "LayoutModel",
          "model_module_version": "1.2.0",
          "state": {
            "_model_module": "@jupyter-widgets/base",
            "_model_module_version": "1.2.0",
            "_model_name": "LayoutModel",
            "_view_count": null,
            "_view_module": "@jupyter-widgets/base",
            "_view_module_version": "1.2.0",
            "_view_name": "LayoutView",
            "align_content": null,
            "align_items": null,
            "align_self": null,
            "border": null,
            "bottom": null,
            "display": null,
            "flex": null,
            "flex_flow": null,
            "grid_area": null,
            "grid_auto_columns": null,
            "grid_auto_flow": null,
            "grid_auto_rows": null,
            "grid_column": null,
            "grid_gap": null,
            "grid_row": null,
            "grid_template_areas": null,
            "grid_template_columns": null,
            "grid_template_rows": null,
            "height": null,
            "justify_content": null,
            "justify_items": null,
            "left": null,
            "margin": null,
            "max_height": null,
            "max_width": null,
            "min_height": null,
            "min_width": null,
            "object_fit": null,
            "object_position": null,
            "order": null,
            "overflow": null,
            "overflow_x": null,
            "overflow_y": null,
            "padding": null,
            "right": null,
            "top": null,
            "visibility": null,
            "width": null
          }
        },
        "321afc3e0b9346fe8efa107dd3c98f67": {
          "model_module": "@jupyter-widgets/controls",
          "model_name": "ProgressStyleModel",
          "model_module_version": "1.5.0",
          "state": {
            "_model_module": "@jupyter-widgets/controls",
            "_model_module_version": "1.5.0",
            "_model_name": "ProgressStyleModel",
            "_view_count": null,
            "_view_module": "@jupyter-widgets/base",
            "_view_module_version": "1.2.0",
            "_view_name": "StyleView",
            "bar_color": null,
            "description_width": ""
          }
        },
        "a235ef31429241d5831a5d3c054e64dd": {
          "model_module": "@jupyter-widgets/base",
          "model_name": "LayoutModel",
          "model_module_version": "1.2.0",
          "state": {
            "_model_module": "@jupyter-widgets/base",
            "_model_module_version": "1.2.0",
            "_model_name": "LayoutModel",
            "_view_count": null,
            "_view_module": "@jupyter-widgets/base",
            "_view_module_version": "1.2.0",
            "_view_name": "LayoutView",
            "align_content": null,
            "align_items": null,
            "align_self": null,
            "border": null,
            "bottom": null,
            "display": null,
            "flex": null,
            "flex_flow": null,
            "grid_area": null,
            "grid_auto_columns": null,
            "grid_auto_flow": null,
            "grid_auto_rows": null,
            "grid_column": null,
            "grid_gap": null,
            "grid_row": null,
            "grid_template_areas": null,
            "grid_template_columns": null,
            "grid_template_rows": null,
            "height": null,
            "justify_content": null,
            "justify_items": null,
            "left": null,
            "margin": null,
            "max_height": null,
            "max_width": null,
            "min_height": null,
            "min_width": null,
            "object_fit": null,
            "object_position": null,
            "order": null,
            "overflow": null,
            "overflow_x": null,
            "overflow_y": null,
            "padding": null,
            "right": null,
            "top": null,
            "visibility": null,
            "width": null
          }
        },
        "c76bde5c7c4647dea5b70cec7d8064da": {
          "model_module": "@jupyter-widgets/controls",
          "model_name": "DescriptionStyleModel",
          "model_module_version": "1.5.0",
          "state": {
            "_model_module": "@jupyter-widgets/controls",
            "_model_module_version": "1.5.0",
            "_model_name": "DescriptionStyleModel",
            "_view_count": null,
            "_view_module": "@jupyter-widgets/base",
            "_view_module_version": "1.2.0",
            "_view_name": "StyleView",
            "description_width": ""
          }
        }
      }
    }
  },
  "cells": [
    {
      "cell_type": "markdown",
      "metadata": {
        "id": "view-in-github",
        "colab_type": "text"
      },
      "source": [
        "<a href=\"https://colab.research.google.com/github/teruyuki-yamasaki/HelloBrax/blob/main/jax0.ipynb\" target=\"_parent\"><img src=\"https://colab.research.google.com/assets/colab-badge.svg\" alt=\"Open In Colab\"/></a>"
      ]
    },
    {
      "cell_type": "markdown",
      "source": [
        "# [Learn JAX: From Linear Regression to Neural Networks](https://www.kaggle.com/code/truthr/jax-0)\n",
        "by [@AllesistKode](https://twitter.com/AllesistKode)\n"
      ],
      "metadata": {
        "id": "tNmMpSWidKrW"
      }
    },
    {
      "cell_type": "markdown",
      "source": [
        "In this Notebook, you will learn how to work with JAX. There are no theory sections here. Here, you will learn stuff as you need it. Just-in-time learning, if you wish! This Notebook will contain three chapters. In these Notebooks, you will learn how to implement and use algorithms in JAX.\n",
        "\n",
        "Table of Contents\n",
        "\n",
        "0. A Brief Introduction to JAX\n",
        "0.1. Autograd\n",
        "0.2. XLA\n",
        "0.3. Composable Transforms\n",
        "0.4. JIT, or Just-In-Time Compilation\n",
        "0.5. Getting to Programming with JAX\n",
        "0.6. The grad method -  \n",
        "∇\n",
        " \n",
        "1. Linear Regression\n",
        "1.1. A Toy Example of Linear Regression\n",
        "1.2. Solving a Real World Problem with Linear Regression\n",
        "2. Logistic Regression with JAX\n",
        "2.1. Pseudo Random Numbers in JAX\n",
        "2.2. Implementing Logistic Regression\n",
        "2.3. Solving a Problem with Logistic Regression\n",
        "3. Training a Neural Network with JAX\n",
        "Where to Go From Here\n",
        "Citations and References\n",
        "I will briefly go over the theories, and then their implementations in JAX.\n",
        "\n"
      ],
      "metadata": {
        "id": "NLa3WWV1XInt"
      }
    },
    {
      "cell_type": "markdown",
      "source": [
        "\n",
        "\n",
        "## Chapter 0: A Brief Introduction to JAX\n",
        "According to the documentation of the project,\n",
        "\n",
        "JAX is Autograd and XLA, brought together for high-performance numerical computing and machine learning research. It provides composable transformations of Python+NumPy programs: differentiate, vectorize, parallelize, Just-In-Time compile to GPU/TPU, and more.\n",
        "\n",
        "\n",
        "### Section 0.1: What is Autograd?\n",
        "Here, Autograd is a specific library. In general, autograd refers to automatic differentiation. In each Deep Learning library, it is essential for the library to calculate the gradients of parameters to be able to backpropagate through them for optimization and update of those parameters to make the model do things that we want. The library that it talks about can automatically differentiate native Python and Numpy code. It can also handle a large subset of Python's features, including loops, ifs, recursion and closures.\n",
        "\n",
        "\n",
        "### Section 0.2: What is XLA?\n",
        "XLA (Accelerated Linear Algebra) is a compiler that compiles written code to accelerators such as GPU and TPU without any code change. When a code in any library such as PyTorch, TensorFlow, etc. is run where there are many components to it, the computation graph launches as many kernels. This is inefficient, and slow. Instead, XLA compiles all the code to an accelerator, where it is run very fast.\n",
        "```\n",
        "def model_fn(x, y, z):\n",
        "    return tf.reduce_sum(x + y * z)\n",
        "```\n",
        "The above function launches three kernels- one each for the addition, the multiplication, and the reduction. (Code from TensorFlow XLA doc).\n",
        "\n",
        "In JAX, Autograd and XLA are brought together, so that automatic-differentiation and compilation to GPU/TPU happen together to provide a very sophisticated, easy to use experience for Deep Learning research and development.\n",
        "\n",
        "### Section 0.3: Composable Transformations\n",
        "JAX is functional by design. Here, you can one transformation on top of the other very easily. It is common to see code like-\n",
        "\n",
        "```\n",
        "grad(jit(grad(jit(grad(np.tanh)))))(1.0)\n",
        "```\n",
        "\n",
        "Note that, in the code, the (1.0) is outside of the parens that change the function. The function itself is getting changed, and not the output of one function is being switched to the next in the line. This is why it is called \"composable transforms\"- the functions themselves get composed.\n",
        "\n",
        "### Section 0.4: JIT, or Just-In-Time Compilation\n",
        "JAX provides you with capabilities to Just-In-Time compile specific functions that will be compiled and ran during the runtime, and not before runtime. You might worry about the overhead costs of compiling functions, but Deep Learning libraries are the ideal place for JIT-compiled functions as functions are called many times over the course of training. So, it's basically- compiled once, ran many times. We will see JIT in action throughout this Notebook."
      ],
      "metadata": {
        "id": "qV4xrw4MWX67"
      }
    },
    {
      "cell_type": "markdown",
      "source": [
        ""
      ],
      "metadata": {
        "id": "ObQgHqKEWpMv"
      }
    },
    {
      "cell_type": "code",
      "source": [
        "import jax \n",
        "import jaxlib \n",
        "import jax.numpy as jnp "
      ],
      "metadata": {
        "id": "K0sifydFXy-d"
      },
      "execution_count": 1,
      "outputs": []
    },
    {
      "cell_type": "code",
      "source": [
        "x = jnp.arange(5) \n",
        "print(x) "
      ],
      "metadata": {
        "colab": {
          "base_uri": "https://localhost:8080/"
        },
        "id": "M300GHCDX27G",
        "outputId": "41803b82-954c-4255-bc22-d4aec2731812"
      },
      "execution_count": 2,
      "outputs": [
        {
          "output_type": "stream",
          "name": "stdout",
          "text": [
            "[0 1 2 3 4]\n"
          ]
        }
      ]
    },
    {
      "cell_type": "code",
      "source": [
        "x"
      ],
      "metadata": {
        "colab": {
          "base_uri": "https://localhost:8080/"
        },
        "id": "dNWK6EY_X6n3",
        "outputId": "d273cf16-80fc-46f9-f1ad-b4187e7b40cd"
      },
      "execution_count": 3,
      "outputs": [
        {
          "output_type": "execute_result",
          "data": {
            "text/plain": [
              "DeviceArray([0, 1, 2, 3, 4], dtype=int32)"
            ]
          },
          "metadata": {},
          "execution_count": 3
        }
      ]
    },
    {
      "cell_type": "code",
      "source": [
        "x, type(x)"
      ],
      "metadata": {
        "colab": {
          "base_uri": "https://localhost:8080/"
        },
        "id": "pYrSXaw8YC_V",
        "outputId": "39f9ac0f-8cd1-4a29-cf2b-1b33fc2d4fd3"
      },
      "execution_count": 4,
      "outputs": [
        {
          "output_type": "execute_result",
          "data": {
            "text/plain": [
              "(DeviceArray([0, 1, 2, 3, 4], dtype=int32), jaxlib.xla_extension.DeviceArray)"
            ]
          },
          "metadata": {},
          "execution_count": 4
        }
      ]
    },
    {
      "cell_type": "code",
      "source": [
        ""
      ],
      "metadata": {
        "id": "y6_lDh8WYFep"
      },
      "execution_count": 4,
      "outputs": []
    },
    {
      "cell_type": "markdown",
      "source": [
        "### Section 0.6: The `grad` method -  \n",
        "∇\n",
        " \n",
        "Here we see a JAX function for the first time. As we have seen in Section 0.3, JAX allows you change functions. jax.grad is a function that takes a numerical function written in Python, and then returns a function that computes the gradient of the original function. Yes, the function gets changed. We are dealing with higher order funtions here. This might be weird to many, but to anyone who has calculated differentials by hand, this is really natural.\n",
        "\n",
        "In PyTorch, the differentiation of a function is always linked to the data. Differentiation does not mean anything until you calculate it at some point. Let's see how differentiation differs in JAX from PyTorch."
      ],
      "metadata": {
        "id": "W4fJ3VmgYS_G"
      }
    },
    {
      "cell_type": "code",
      "source": [
        "import torch \n",
        "\n",
        "tensor_a = torch.arange(1, 25., requires_grad=True) \n",
        "tensor_a "
      ],
      "metadata": {
        "colab": {
          "base_uri": "https://localhost:8080/"
        },
        "id": "EuYfXcPEYVoC",
        "outputId": "2c4a50e8-cfbd-4ed2-ecee-6a33c20f980a"
      },
      "execution_count": 5,
      "outputs": [
        {
          "output_type": "execute_result",
          "data": {
            "text/plain": [
              "tensor([ 1.,  2.,  3.,  4.,  5.,  6.,  7.,  8.,  9., 10., 11., 12., 13., 14.,\n",
              "        15., 16., 17., 18., 19., 20., 21., 22., 23., 24.], requires_grad=True)"
            ]
          },
          "metadata": {},
          "execution_count": 5
        }
      ]
    },
    {
      "cell_type": "code",
      "source": [
        "def sum_of_squares_torch(n: torch.Tensor) -> torch.Tensor:\n",
        "    return torch.sum(torch.pow(n, 2)) "
      ],
      "metadata": {
        "id": "0mYZBvbfYjCa"
      },
      "execution_count": 6,
      "outputs": []
    },
    {
      "cell_type": "code",
      "source": [
        "b = sum_of_squares_torch(tensor_a) \n",
        "b"
      ],
      "metadata": {
        "colab": {
          "base_uri": "https://localhost:8080/"
        },
        "id": "Y1MBdsIQYz6P",
        "outputId": "2bd587fc-5676-4b17-d248-01c46aab23bf"
      },
      "execution_count": 7,
      "outputs": [
        {
          "output_type": "execute_result",
          "data": {
            "text/plain": [
              "tensor(4900., grad_fn=<SumBackward0>)"
            ]
          },
          "metadata": {},
          "execution_count": 7
        }
      ]
    },
    {
      "cell_type": "code",
      "source": [
        "b.backward() \n",
        "print(tensor_a.grad) \n",
        "print(tensor_a) "
      ],
      "metadata": {
        "colab": {
          "base_uri": "https://localhost:8080/"
        },
        "id": "FHyeV5UXY4Am",
        "outputId": "24480601-5aab-4637-bac3-17830e8ce8d5"
      },
      "execution_count": 8,
      "outputs": [
        {
          "output_type": "stream",
          "name": "stdout",
          "text": [
            "tensor([ 2.,  4.,  6.,  8., 10., 12., 14., 16., 18., 20., 22., 24., 26., 28.,\n",
            "        30., 32., 34., 36., 38., 40., 42., 44., 46., 48.])\n",
            "tensor([ 1.,  2.,  3.,  4.,  5.,  6.,  7.,  8.,  9., 10., 11., 12., 13., 14.,\n",
            "        15., 16., 17., 18., 19., 20., 21., 22., 23., 24.], requires_grad=True)\n"
          ]
        }
      ]
    },
    {
      "cell_type": "code",
      "source": [
        "import matplotlib.pyplot as plt \n",
        "\n",
        "xs = tensor_a.detach().numpy() \n",
        "ys = xs ** 2 \n",
        "y_dash = 2 * xs\n",
        "\n",
        "plt.plot(xs, ys, label='the function') \n",
        "plt.plot(xs, y_dash, label='the tangent') \n",
        "plt.legend() \n",
        "plt.title('$x^2$ and $2x$')\n",
        "plt.show() "
      ],
      "metadata": {
        "colab": {
          "base_uri": "https://localhost:8080/",
          "height": 285
        },
        "id": "6_nZkviyZEW9",
        "outputId": "25b79d08-56f7-47c7-b916-20bc1d2d88f9"
      },
      "execution_count": 9,
      "outputs": [
        {
          "output_type": "display_data",
          "data": {
            "text/plain": [
              "<Figure size 432x288 with 1 Axes>"
            ],
            "image/png": "[encoded data removed]"
          },
          "metadata": {
            "needs_background": "light"
          }
        }
      ]
    },
    {
      "cell_type": "code",
      "source": [
        "def sum_of_squares_jax(x: jaxlib.xla_extension.DeviceArray) -> jaxlib.xla_extension.DeviceArray:\n",
        "    return jnp.sum(x ** 2) "
      ],
      "metadata": {
        "id": "sr1FIpiuZmaS"
      },
      "execution_count": 10,
      "outputs": []
    },
    {
      "cell_type": "code",
      "source": [
        "tensor_a = jnp.arange(1, 25.) \n",
        "tensor_a"
      ],
      "metadata": {
        "colab": {
          "base_uri": "https://localhost:8080/"
        },
        "id": "HccZz8PUaKH-",
        "outputId": "c367a1ab-3ab3-4680-d1d3-bd086741fe64"
      },
      "execution_count": 11,
      "outputs": [
        {
          "output_type": "execute_result",
          "data": {
            "text/plain": [
              "DeviceArray([ 1.,  2.,  3.,  4.,  5.,  6.,  7.,  8.,  9., 10., 11., 12.,\n",
              "             13., 14., 15., 16., 17., 18., 19., 20., 21., 22., 23., 24.],            dtype=float32)"
            ]
          },
          "metadata": {},
          "execution_count": 11
        }
      ]
    },
    {
      "cell_type": "code",
      "source": [
        "sum_of_squares_jax(tensor_a) "
      ],
      "metadata": {
        "colab": {
          "base_uri": "https://localhost:8080/"
        },
        "id": "AJ9gQSN7aR5T",
        "outputId": "bcd46ea3-caa4-46fd-9453-c7174c1660fb"
      },
      "execution_count": 12,
      "outputs": [
        {
          "output_type": "execute_result",
          "data": {
            "text/plain": [
              "DeviceArray(4900., dtype=float32)"
            ]
          },
          "metadata": {},
          "execution_count": 12
        }
      ]
    },
    {
      "cell_type": "code",
      "source": [
        "sum_of_squares_dx = jax.grad(sum_of_squares_jax) "
      ],
      "metadata": {
        "id": "_qJa9x7NaW6K"
      },
      "execution_count": 13,
      "outputs": []
    },
    {
      "cell_type": "code",
      "source": [
        "sum_of_squares_dx(tensor_a) "
      ],
      "metadata": {
        "colab": {
          "base_uri": "https://localhost:8080/"
        },
        "id": "-Qs3pInqadLz",
        "outputId": "ed3032a5-758e-4151-83e6-0adbf2ed84e9"
      },
      "execution_count": 14,
      "outputs": [
        {
          "output_type": "execute_result",
          "data": {
            "text/plain": [
              "DeviceArray([ 2.,  4.,  6.,  8., 10., 12., 14., 16., 18., 20., 22., 24.,\n",
              "             26., 28., 30., 32., 34., 36., 38., 40., 42., 44., 46., 48.],            dtype=float32)"
            ]
          },
          "metadata": {},
          "execution_count": 14
        }
      ]
    },
    {
      "cell_type": "code",
      "source": [
        "import numpy as np \n",
        "\n",
        "xs = np.random.normal(size=(100,)) \n",
        "noise = np.random.normal(scale=0.5, size=(100,)) \n",
        "ys = 4 * xs - 1 + noise \n",
        "\n",
        "plt.scatter(xs, ys) \n",
        "plt.show() "
      ],
      "metadata": {
        "colab": {
          "base_uri": "https://localhost:8080/",
          "height": 265
        },
        "id": "q9XGN2loag3V",
        "outputId": "e46dc811-9e56-4bce-f8f2-4789fbbb2ee3"
      },
      "execution_count": 15,
      "outputs": [
        {
          "output_type": "display_data",
          "data": {
            "text/plain": [
              "<Figure size 432x288 with 1 Axes>"
            ],
            "image/png": "[encoded data removed]"
          },
          "metadata": {
            "needs_background": "light"
          }
        }
      ]
    },
    {
      "cell_type": "code",
      "source": [
        "def model(theta: jaxlib.xla_extension.DeviceArray, x: np.ndarray) -> jaxlib.xla_extension.DeviceArray:\n",
        "    w, b = theta \n",
        "    return w * x + b\n",
        "\n",
        "def loss_fn(theta: jaxlib.xla_extension.DeviceArray, \n",
        "            x: np.ndarray, y: np.ndarray) -> jaxlib.xla_extension.DeviceArray:\n",
        "    pred = model(theta, x)\n",
        "    return jnp.mean((pred - y)**2) \n",
        "\n",
        "def update(theta: jaxlib.xla_extension.DeviceArray, \n",
        "           x: np.ndarray, y: np.ndarray, lr: float=0.1) -> jaxlib.xla_extension.DeviceArray:\n",
        "           return theta - lr * jax.grad(loss_fn)(theta, x, y) "
      ],
      "metadata": {
        "id": "iFpuyxtZt2yJ"
      },
      "execution_count": 16,
      "outputs": []
    },
    {
      "cell_type": "code",
      "source": [
        "theta = jnp.array([1.,1]) \n",
        "\n",
        "for _ in range(1000):\n",
        "    theta = update(theta, xs, ys) \n",
        "\n",
        "w, b = theta \n",
        "print(f'w = {w:<.2f}, b = {b:<.2f}')\n",
        "plt.scatter(xs, ys, label='data') \n",
        "plt.plot(xs, model(theta, xs), 'r', label='model')\n",
        "plt.legend() \n",
        "plt.title('Linear Regression') \n",
        "plt.show()  "
      ],
      "metadata": {
        "colab": {
          "base_uri": "https://localhost:8080/",
          "height": 298
        },
        "id": "1ISicy_9udzw",
        "outputId": "1a40c89d-911c-4d16-b62a-5afc463c1639"
      },
      "execution_count": 17,
      "outputs": [
        {
          "output_type": "stream",
          "name": "stdout",
          "text": [
            "w = 4.01, b = -0.96\n"
          ]
        },
        {
          "output_type": "display_data",
          "data": {
            "text/plain": [
              "<Figure size 432x288 with 1 Axes>"
            ],
            "image/png": "[encoded data removed]"
          },
          "metadata": {
            "needs_background": "light"
          }
        }
      ]
    },
    {
      "cell_type": "markdown",
      "source": [
        "[Weather Conditions in World War Two](https://www.kaggle.com/datasets/smid80/weatherww2)"
      ],
      "metadata": {
        "id": "Jv9iPVRqxBCs"
      }
    },
    {
      "cell_type": "code",
      "source": [
        "from google.colab import drive \n",
        "drive.mount('/content/gdrive') \n",
        "%cd /content/gdrive/MyDrive/Colab Notebooks/brax/\n",
        "%ls"
      ],
      "metadata": {
        "colab": {
          "base_uri": "https://localhost:8080/"
        },
        "id": "BCyxXxP8xiJW",
        "outputId": "1d1b8d89-ab36-42de-cba4-dc3041017e68"
      },
      "execution_count": 18,
      "outputs": [
        {
          "output_type": "stream",
          "name": "stdout",
          "text": [
            "Drive already mounted at /content/gdrive; to attempt to forcibly remount, call drive.mount(\"/content/gdrive\", force_remount=True).\n",
            "/content/gdrive/MyDrive/Colab Notebooks/brax\n",
            "BraxEnv.ipynb      \u001b[0m\u001b[01;34minputs\u001b[0m/     JAX.ipynb\n",
            "HelloBrax01.ipynb  jax0.ipynb  TrainInBrax.ipynb\n"
          ]
        }
      ]
    },
    {
      "cell_type": "code",
      "source": [
        "import pandas as pd \n",
        "\n",
        "weather_data_org = pd.read_csv('./inputs/WeatherConditions/Summary of Weather.csv')\n",
        "weather_data_minmax = weather_data_org[['MaxTemp', 'MinTemp']].reset_index() \n",
        "weather_data_minmax.sample(5) "
      ],
      "metadata": {
        "colab": {
          "base_uri": "https://localhost:8080/",
          "height": 261
        },
        "id": "DToY7DeSwnka",
        "outputId": "cd59621e-4f01-4ecc-b872-558c4325ea5c"
      },
      "execution_count": 19,
      "outputs": [
        {
          "output_type": "stream",
          "name": "stderr",
          "text": [
            "/usr/local/lib/python3.7/dist-packages/IPython/core/interactiveshell.py:2882: DtypeWarning: Columns (7,8,18,25) have mixed types.Specify dtype option on import or set low_memory=False.\n",
            "  exec(code_obj, self.user_global_ns, self.user_ns)\n"
          ]
        },
        {
          "output_type": "execute_result",
          "data": {
            "text/plain": [
              "         index    MaxTemp    MinTemp\n",
              "113134  113134  31.666667  21.666667\n",
              "69200    69200  30.000000  13.333333\n",
              "5239      5239  30.000000  20.000000\n",
              "49914    49914  29.444444  25.000000\n",
              "43908    43908  11.666667   8.333333"
            ],
            "text/html": [
              "\n",
              "  <div id=\"df-3a136f11-36c8-4401-976a-805583e8c7e3\">\n",
              "    <div class=\"colab-df-container\">\n",
              "      <div>\n",
              "<style scoped>\n",
              "    .dataframe tbody tr th:only-of-type {\n",
              "        vertical-align: middle;\n",
              "    }\n",
              "\n",
              "    .dataframe tbody tr th {\n",
              "        vertical-align: top;\n",
              "    }\n",
              "\n",
              "    .dataframe thead th {\n",
              "        text-align: right;\n",
              "    }\n",
              "</style>\n",
              "<table border=\"1\" class=\"dataframe\">\n",
              "  <thead>\n",
              "    <tr style=\"text-align: right;\">\n",
              "      <th></th>\n",
              "      <th>index</th>\n",
              "      <th>MaxTemp</th>\n",
              "      <th>MinTemp</th>\n",
              "    </tr>\n",
              "  </thead>\n",
              "  <tbody>\n",
              "    <tr>\n",
              "      <th>113134</th>\n",
              "      <td>113134</td>\n",
              "      <td>31.666667</td>\n",
              "      <td>21.666667</td>\n",
              "    </tr>\n",
              "    <tr>\n",
              "      <th>69200</th>\n",
              "      <td>69200</td>\n",
              "      <td>30.000000</td>\n",
              "      <td>13.333333</td>\n",
              "    </tr>\n",
              "    <tr>\n",
              "      <th>5239</th>\n",
              "      <td>5239</td>\n",
              "      <td>30.000000</td>\n",
              "      <td>20.000000</td>\n",
              "    </tr>\n",
              "    <tr>\n",
              "      <th>49914</th>\n",
              "      <td>49914</td>\n",
              "      <td>29.444444</td>\n",
              "      <td>25.000000</td>\n",
              "    </tr>\n",
              "    <tr>\n",
              "      <th>43908</th>\n",
              "      <td>43908</td>\n",
              "      <td>11.666667</td>\n",
              "      <td>8.333333</td>\n",
              "    </tr>\n",
              "  </tbody>\n",
              "</table>\n",
              "</div>\n",
              "      <button class=\"colab-df-convert\" onclick=\"convertToInteractive('df-3a136f11-36c8-4401-976a-805583e8c7e3')\"\n",
              "              title=\"Convert this dataframe to an interactive table.\"\n",
              "              style=\"display:none;\">\n",
              "        \n",
              "  <svg xmlns=\"http://www.w3.org/2000/svg\" height=\"24px\"viewBox=\"0 0 24 24\"\n",
              "       width=\"24px\">\n",
              "    <path d=\"M0 0h24v24H0V0z\" fill=\"none\"/>\n",
              "    <path d=\"M18.56 5.44l.94 2.06.94-2.06 2.06-.94-2.06-.94-.94-2.06-.94 2.06-2.06.94zm-11 1L8.5 8.5l.94-2.06 2.06-.94-2.06-.94L8.5 2.5l-.94 2.06-2.06.94zm10 10l.94 2.06.94-2.06 2.06-.94-2.06-.94-.94-2.06-.94 2.06-2.06.94z\"/><path d=\"M17.41 7.96l-1.37-1.37c-.4-.4-.92-.59-1.43-.59-.52 0-1.04.2-1.43.59L10.3 9.45l-7.72 7.72c-.78.78-.78 2.05 0 2.83L4 21.41c.39.39.9.59 1.41.59.51 0 1.02-.2 1.41-.59l7.78-7.78 2.81-2.81c.8-.78.8-2.07 0-2.86zM5.41 20L4 18.59l7.72-7.72 1.47 1.35L5.41 20z\"/>\n",
              "  </svg>\n",
              "      </button>\n",
              "      \n",
              "  <style>\n",
              "    .colab-df-container {\n",
              "      display:flex;\n",
              "      flex-wrap:wrap;\n",
              "      gap: 12px;\n",
              "    }\n",
              "\n",
              "    .colab-df-convert {\n",
              "      background-color: #E8F0FE;\n",
              "      border: none;\n",
              "      border-radius: 50%;\n",
              "      cursor: pointer;\n",
              "      display: none;\n",
              "      fill: #1967D2;\n",
              "      height: 32px;\n",
              "      padding: 0 0 0 0;\n",
              "      width: 32px;\n",
              "    }\n",
              "\n",
              "    .colab-df-convert:hover {\n",
              "      background-color: #E2EBFA;\n",
              "      box-shadow: 0px 1px 2px rgba(60, 64, 67, 0.3), 0px 1px 3px 1px rgba(60, 64, 67, 0.15);\n",
              "      fill: #174EA6;\n",
              "    }\n",
              "\n",
              "    [theme=dark] .colab-df-convert {\n",
              "      background-color: #3B4455;\n",
              "      fill: #D2E3FC;\n",
              "    }\n",
              "\n",
              "    [theme=dark] .colab-df-convert:hover {\n",
              "      background-color: #434B5C;\n",
              "      box-shadow: 0px 1px 3px 1px rgba(0, 0, 0, 0.15);\n",
              "      filter: drop-shadow(0px 1px 2px rgba(0, 0, 0, 0.3));\n",
              "      fill: #FFFFFF;\n",
              "    }\n",
              "  </style>\n",
              "\n",
              "      <script>\n",
              "        const buttonEl =\n",
              "          document.querySelector('#df-3a136f11-36c8-4401-976a-805583e8c7e3 button.colab-df-convert');\n",
              "        buttonEl.style.display =\n",
              "          google.colab.kernel.accessAllowed ? 'block' : 'none';\n",
              "\n",
              "        async function convertToInteractive(key) {\n",
              "          const element = document.querySelector('#df-3a136f11-36c8-4401-976a-805583e8c7e3');\n",
              "          const dataTable =\n",
              "            await google.colab.kernel.invokeFunction('convertToInteractive',\n",
              "                                                     [key], {});\n",
              "          if (!dataTable) return;\n",
              "\n",
              "          const docLinkHtml = 'Like what you see? Visit the ' +\n",
              "            '<a target=\"_blank\" href=https://colab.research.google.com/notebooks/data_table.ipynb>data table notebook</a>'\n",
              "            + ' to learn more about interactive tables.';\n",
              "          element.innerHTML = '';\n",
              "          dataTable['output_type'] = 'display_data';\n",
              "          await google.colab.output.renderOutput(dataTable, element);\n",
              "          const docLink = document.createElement('div');\n",
              "          docLink.innerHTML = docLinkHtml;\n",
              "          element.appendChild(docLink);\n",
              "        }\n",
              "      </script>\n",
              "    </div>\n",
              "  </div>\n",
              "  "
            ]
          },
          "metadata": {},
          "execution_count": 19
        }
      ]
    },
    {
      "cell_type": "code",
      "source": [
        "from sklearn.model_selection import train_test_split \n",
        "\n",
        "data = weather_data_minmax \n",
        "seed = 42 \n",
        "\n",
        "X = jnp.array(data['MinTemp'].to_numpy(dtype=float)) \n",
        "Y = jnp.array(data['MaxTemp'].to_numpy(dtype=float)) \n",
        "\n",
        "x_train, x_test, y_train, y_test = train_test_split(X, Y, test_size=0.2, random_state=seed) "
      ],
      "metadata": {
        "id": "-V_htkMkxRyW"
      },
      "execution_count": 20,
      "outputs": []
    },
    {
      "cell_type": "code",
      "source": [
        "@jax.jit \n",
        "def model(theta: jaxlib.xla_extension.DeviceArray, x: jaxlib.xla_extension.DeviceArray) -> jaxlib.xla_extension.DeviceArray:\n",
        "    w, b = theta \n",
        "    return x * w + b \n",
        "\n",
        "@jax.jit \n",
        "def loss_fn(theta:jaxlib.xla_extension.DeviceArray, x:jaxlib.xla_extension.DeviceArray, y:jaxlib.xla_extension.DeviceArray) -> jaxlib.xla_extension.DeviceArray:\n",
        "    pred = model(theta, x) \n",
        "    return jnp.mean((pred - y)**2) \n",
        "\n",
        "@jax.jit \n",
        "def update(theta:jaxlib.xla_extension.DeviceArray, x:jaxlib.xla_extension.DeviceArray, y:jaxlib.xla_extension.DeviceArray, lr: float=0.1) -> jaxlib.xla_extension.DeviceArray:\n",
        "    return theta - lr * jax.grad(loss_fn)(theta, x, y) "
      ],
      "metadata": {
        "id": "cqR3zfuIywSt"
      },
      "execution_count": 21,
      "outputs": []
    },
    {
      "cell_type": "code",
      "source": [
        "theta = jnp.array([1.,1]) \n",
        "\n",
        "print('X: ', X.shape)\n",
        "print('Y: ', Y.shape)\n",
        "print('x_train: ', x_train.shape) \n",
        "print('y_train: ', y_train.shape) \n",
        "\n",
        "for _ in range(1000):\n",
        "    theta = update(theta, x_train, y_train, lr=0.001)\n",
        "\n",
        "w, b = theta \n",
        "print(f'w = {w:<.2f}, b = {b:<.2f}')\n",
        "plt.scatter(x_train, y_train, label='data') \n",
        "plt.plot(x_train, model(theta, x_train), 'r', label='model')\n",
        "plt.legend() \n",
        "plt.title('Linear Regression') \n",
        "plt.show()  "
      ],
      "metadata": {
        "colab": {
          "base_uri": "https://localhost:8080/",
          "height": 368
        },
        "id": "tvE6bLVT1dSE",
        "outputId": "44df5fc5-a997-400f-d629-6adbfaf5c5bc"
      },
      "execution_count": 22,
      "outputs": [
        {
          "output_type": "stream",
          "name": "stdout",
          "text": [
            "X:  (119040,)\n",
            "Y:  (119040,)\n",
            "x_train:  (95232,)\n",
            "y_train:  (95232,)\n",
            "w = 1.23, b = 3.94\n"
          ]
        },
        {
          "output_type": "display_data",
          "data": {
            "text/plain": [
              "<Figure size 432x288 with 1 Axes>"
            ],
            "image/png": "[encoded data removed]"
          },
          "metadata": {
            "needs_background": "light"
          }
        }
      ]
    },
    {
      "cell_type": "code",
      "source": [
        "from sklearn.metrics import mean_squared_error as MSE \n",
        "\n",
        "print(MSE(np.array(y_test), np.array(model(theta, x_test)), squared=False))"
      ],
      "metadata": {
        "colab": {
          "base_uri": "https://localhost:8080/"
        },
        "id": "v3GkA0J31xiE",
        "outputId": "de7a888a-d66d-484c-cfd6-f874881ae691"
      },
      "execution_count": 23,
      "outputs": [
        {
          "output_type": "stream",
          "name": "stdout",
          "text": [
            "5.0338135\n"
          ]
        }
      ]
    },
    {
      "cell_type": "markdown",
      "source": [
        "generation of pseudo random numbers"
      ],
      "metadata": {
        "id": "G_FUIR_d4eGk"
      }
    },
    {
      "cell_type": "markdown",
      "source": [
        "JAX cannot provide sequential guarantee"
      ],
      "metadata": {
        "id": "P-BzU66v4VXB"
      }
    },
    {
      "cell_type": "code",
      "source": [
        "from jax import random \n",
        "\n",
        "key = random.PRNGKey(84) \n",
        "key"
      ],
      "metadata": {
        "colab": {
          "base_uri": "https://localhost:8080/"
        },
        "id": "3AQN1KTu3nep",
        "outputId": "34d7b6c4-b1d6-4366-8902-e024342bb33b"
      },
      "execution_count": 24,
      "outputs": [
        {
          "output_type": "execute_result",
          "data": {
            "text/plain": [
              "DeviceArray([ 0, 84], dtype=uint32)"
            ]
          },
          "metadata": {},
          "execution_count": 24
        }
      ]
    },
    {
      "cell_type": "code",
      "source": [
        "print(random.uniform(key))\n",
        "print(random.uniform(key))"
      ],
      "metadata": {
        "colab": {
          "base_uri": "https://localhost:8080/"
        },
        "id": "fQyup_d_4IMw",
        "outputId": "482b267d-fa4e-4efa-92bc-6af613cec705"
      },
      "execution_count": 25,
      "outputs": [
        {
          "output_type": "stream",
          "name": "stdout",
          "text": [
            "0.4272107\n",
            "0.4272107\n"
          ]
        }
      ]
    },
    {
      "cell_type": "code",
      "source": [
        "print(random.uniform(key,shape=(1,3)))\n",
        "print(random.uniform(key,shape=(1,3)))"
      ],
      "metadata": {
        "colab": {
          "base_uri": "https://localhost:8080/"
        },
        "id": "JjG3Bqhy4ktp",
        "outputId": "dbae3ce9-b728-402d-ce3f-7bda82b6da08"
      },
      "execution_count": 26,
      "outputs": [
        {
          "output_type": "stream",
          "name": "stdout",
          "text": [
            "[[0.5701088  0.05684721 0.7848358 ]]\n",
            "[[0.5701088  0.05684721 0.7848358 ]]\n"
          ]
        }
      ]
    },
    {
      "cell_type": "code",
      "source": [
        "_ = random.split(key) \n",
        "_"
      ],
      "metadata": {
        "colab": {
          "base_uri": "https://localhost:8080/"
        },
        "id": "h9AbMDTD4ykN",
        "outputId": "5216f4d2-0701-4db2-c3ae-693cb941d2dc"
      },
      "execution_count": 27,
      "outputs": [
        {
          "output_type": "execute_result",
          "data": {
            "text/plain": [
              "DeviceArray([[2448598795, 3780041349],\n",
              "             [3370844222, 3811792685]], dtype=uint32)"
            ]
          },
          "metadata": {},
          "execution_count": 27
        }
      ]
    },
    {
      "cell_type": "code",
      "source": [
        "new_key, sub_key = random.split(key) \n",
        "del key \n",
        "\n",
        "print(new_key) \n",
        "print(sub_key) \n",
        "print(random.normal(new_key))\n",
        "print(random.normal(sub_key))\n",
        "#print(key) # NameError: name 'key' is not defined"
      ],
      "metadata": {
        "colab": {
          "base_uri": "https://localhost:8080/"
        },
        "id": "QqT4HHPI4ojJ",
        "outputId": "684e09fd-cf33-4b89-eea3-1cbd5a0bd4b9"
      },
      "execution_count": 28,
      "outputs": [
        {
          "output_type": "stream",
          "name": "stdout",
          "text": [
            "[2448598795 3780041349]\n",
            "[3370844222 3811792685]\n",
            "-1.3415899\n",
            "-0.24351525\n"
          ]
        }
      ]
    },
    {
      "cell_type": "code",
      "source": [
        "@jax.jit \n",
        "def sigmoid(x: jaxlib.xla_extension.DeviceArray) -> jaxlib.xla_extension.DeviceArray:\n",
        "    return 1 / (1 + jnp.exp(-x)) \n",
        "\n",
        "xs = jnp.arange(-100, 101) \n",
        "plt.plot(xs, sigmoid(xs)) \n",
        "plt.title('sigmoid') \n",
        "plt.show() "
      ],
      "metadata": {
        "colab": {
          "base_uri": "https://localhost:8080/",
          "height": 281
        },
        "id": "uhQo1U7W5GYD",
        "outputId": "a47fd921-f55c-4a35-bb42-0d087ed1b35c"
      },
      "execution_count": 29,
      "outputs": [
        {
          "output_type": "display_data",
          "data": {
            "text/plain": [
              "<Figure size 432x288 with 1 Axes>"
            ],
            "image/png": "[encoded data removed]"
          },
          "metadata": {
            "needs_background": "light"
          }
        }
      ]
    },
    {
      "cell_type": "markdown",
      "source": [
        "## Logistic Regression"
      ],
      "metadata": {
        "id": "j8bXNy7cE-cE"
      }
    },
    {
      "cell_type": "markdown",
      "source": [
        "$$\n",
        "y = f(x) = \\frac{e^x}{1 + e^x} = \\frac{1}{1 + e^{-x}}\n",
        "$$\n",
        "\n",
        "$$\n",
        "J = \\mathbb{E}[Cost(f(x),y)]\n",
        "$$\n",
        "\n",
        "$$\n",
        "Cost(f(x),y) = \\left\\{ \n",
        "\\begin{array}\n",
        "- \\log f(x) & \\mbox{if } y = 1, \\\\\n",
        "- \\log(1 - f(x)) & \\mbox{if } y = 0 \\\\ \n",
        "\\end{array}\n",
        "\\right.\n",
        "$$\n",
        "\n",
        "$$\n",
        "Cost(f(x), y) = - y \\log f(x) - (1 - y) \\log (1 - f(x))\n",
        "$$"
      ],
      "metadata": {
        "id": "KJwWp39a_vUR"
      }
    },
    {
      "cell_type": "code",
      "source": [
        "seed = 42 \n",
        "key = random.PRNGKey(seed) \n",
        "\n",
        "_ = random.split(key, 3) \n",
        "_"
      ],
      "metadata": {
        "colab": {
          "base_uri": "https://localhost:8080/"
        },
        "id": "zM4lEkXp6K89",
        "outputId": "50edd951-dce8-4258-c555-ec6cbec7b635"
      },
      "execution_count": 71,
      "outputs": [
        {
          "output_type": "execute_result",
          "data": {
            "text/plain": [
              "DeviceArray([[3134548294, 3733159049],\n",
              "             [3746501087,  894150801],\n",
              "             [ 801545058, 2363201431]], dtype=uint32)"
            ]
          },
          "metadata": {},
          "execution_count": 71
        }
      ]
    },
    {
      "cell_type": "code",
      "source": [
        "key, W_key, b_key = random.split(key, 3) "
      ],
      "metadata": {
        "id": "l3-UrbDx6aL-"
      },
      "execution_count": 72,
      "outputs": []
    },
    {
      "cell_type": "code",
      "source": [
        "@jax.jit \n",
        "def init_parameters(x: jaxlib.xla_extension.DeviceArray) -> (jaxlib.xla_extension.DeviceArray, jaxlib.xla_extension.DeviceArray):\n",
        "    #Number of features == number of weights\n",
        "    #Uses scaling while initialization (see: https://arxiv.org/abs/1502.01852v1)\n",
        "    n_features = x.shape[-1] \n",
        "\n",
        "    W = random.normal(key=W_key, shape=(n_features,))*(np.sqrt(2/x.shape[0]))\n",
        "    b = random.normal(key=b_key, shape=())*(np.sqrt(2/x.shape[0]))\n",
        "\n",
        "    return W, b \n",
        "\n",
        "@jax.jit \n",
        "def lr_model(x:jaxlib.xla_extension.DeviceArray, W:jaxlib.xla_extension.DeviceArray, b:jaxlib.xla_extension.DeviceArray) -> jaxlib.xla_extension.DeviceArray:\n",
        "    return jax.nn.sigmoid(jnp.dot(x, W)+ b) \n",
        "\n",
        "epsilon = 1e-6 \n",
        "@jax.jit \n",
        "def nll_loss(W:jaxlib.xla_extension.DeviceArray, b:jaxlib.xla_extension.DeviceArray, x:jaxlib.xla_extension.DeviceArray, y:jaxlib.xla_extension.DeviceArray) -> jaxlib.xla_extension.DeviceArray:\n",
        "    pred = lr_model(x, W, b) \n",
        "    cost = jnp.log(pred + epsilon) * y + jnp.log(1- pred + epsilon) * (1- y) \n",
        "    return -jnp.mean(cost)\n",
        "\n",
        "@jax.jit\n",
        "def update(W:jaxlib.xla_extension.DeviceArray, b:jaxlib.xla_extension.DeviceArray, x: jaxlib.xla_extension.DeviceArray, y: jaxlib.xla_extension.DeviceArray, lr: float=0.001) -> jaxlib.xla_extension.DeviceArray:\n",
        "    W_grad, b_grad = jax.grad(nll_loss, (0,1))(W, b, x, y) \n",
        "    W -= lr * W_grad \n",
        "    b -= lr * b_grad \n",
        "    return W, b \n",
        "\n",
        "#W, b = init_parameters(X)"
      ],
      "metadata": {
        "id": "vqUch8ma6lba"
      },
      "execution_count": 79,
      "outputs": []
    },
    {
      "cell_type": "code",
      "source": [
        "import pandas as pd \n",
        "%ls inputs/\n",
        "candy_power_data = pd.read_csv('./inputs/Candy/candy-data.csv').drop(['competitorname'], axis=1) \n",
        "candy_power_data.sample(5)"
      ],
      "metadata": {
        "colab": {
          "base_uri": "https://localhost:8080/",
          "height": 287
        },
        "id": "d5SFPdr2FliN",
        "outputId": "1e31e9fd-12a7-4518-b4ed-567589fe99dc"
      },
      "execution_count": 74,
      "outputs": [
        {
          "output_type": "stream",
          "name": "stdout",
          "text": [
            "\u001b[0m\u001b[01;34mCandy\u001b[0m/  \u001b[01;34mWeatherConditions\u001b[0m/\n"
          ]
        },
        {
          "output_type": "execute_result",
          "data": {
            "text/plain": [
              "    chocolate  fruity  caramel  peanutyalmondy  nougat  crispedricewafer  \\\n",
              "52          1       0        0               1       0                 0   \n",
              "32          1       0        0               1       0                 0   \n",
              "73          0       1        0               0       0                 0   \n",
              "21          0       1        0               0       0                 0   \n",
              "36          1       0        1               0       1                 0   \n",
              "\n",
              "    hard  bar  pluribus  sugarpercent  pricepercent  winpercent  \n",
              "52     0    0         0         0.720         0.651   84.180290  \n",
              "32     0    0         1         0.825         0.651   71.465050  \n",
              "73     0    0         1         0.604         0.755   54.861111  \n",
              "21     0    0         1         0.465         0.465   42.178772  \n",
              "36     0    1         0         0.604         0.651   73.099556  "
            ],
            "text/html": [
              "\n",
              "  <div id=\"df-4eb3fe38-c10f-4ee4-8dfe-3756680625ce\">\n",
              "    <div class=\"colab-df-container\">\n",
              "      <div>\n",
              "<style scoped>\n",
              "    .dataframe tbody tr th:only-of-type {\n",
              "        vertical-align: middle;\n",
              "    }\n",
              "\n",
              "    .dataframe tbody tr th {\n",
              "        vertical-align: top;\n",
              "    }\n",
              "\n",
              "    .dataframe thead th {\n",
              "        text-align: right;\n",
              "    }\n",
              "</style>\n",
              "<table border=\"1\" class=\"dataframe\">\n",
              "  <thead>\n",
              "    <tr style=\"text-align: right;\">\n",
              "      <th></th>\n",
              "      <th>chocolate</th>\n",
              "      <th>fruity</th>\n",
              "      <th>caramel</th>\n",
              "      <th>peanutyalmondy</th>\n",
              "      <th>nougat</th>\n",
              "      <th>crispedricewafer</th>\n",
              "      <th>hard</th>\n",
              "      <th>bar</th>\n",
              "      <th>pluribus</th>\n",
              "      <th>sugarpercent</th>\n",
              "      <th>pricepercent</th>\n",
              "      <th>winpercent</th>\n",
              "    </tr>\n",
              "  </thead>\n",
              "  <tbody>\n",
              "    <tr>\n",
              "      <th>52</th>\n",
              "      <td>1</td>\n",
              "      <td>0</td>\n",
              "      <td>0</td>\n",
              "      <td>1</td>\n",
              "      <td>0</td>\n",
              "      <td>0</td>\n",
              "      <td>0</td>\n",
              "      <td>0</td>\n",
              "      <td>0</td>\n",
              "      <td>0.720</td>\n",
              "      <td>0.651</td>\n",
              "      <td>84.180290</td>\n",
              "    </tr>\n",
              "    <tr>\n",
              "      <th>32</th>\n",
              "      <td>1</td>\n",
              "      <td>0</td>\n",
              "      <td>0</td>\n",
              "      <td>1</td>\n",
              "      <td>0</td>\n",
              "      <td>0</td>\n",
              "      <td>0</td>\n",
              "      <td>0</td>\n",
              "      <td>1</td>\n",
              "      <td>0.825</td>\n",
              "      <td>0.651</td>\n",
              "      <td>71.465050</td>\n",
              "    </tr>\n",
              "    <tr>\n",
              "      <th>73</th>\n",
              "      <td>0</td>\n",
              "      <td>1</td>\n",
              "      <td>0</td>\n",
              "      <td>0</td>\n",
              "      <td>0</td>\n",
              "      <td>0</td>\n",
              "      <td>0</td>\n",
              "      <td>0</td>\n",
              "      <td>1</td>\n",
              "      <td>0.604</td>\n",
              "      <td>0.755</td>\n",
              "      <td>54.861111</td>\n",
              "    </tr>\n",
              "    <tr>\n",
              "      <th>21</th>\n",
              "      <td>0</td>\n",
              "      <td>1</td>\n",
              "      <td>0</td>\n",
              "      <td>0</td>\n",
              "      <td>0</td>\n",
              "      <td>0</td>\n",
              "      <td>0</td>\n",
              "      <td>0</td>\n",
              "      <td>1</td>\n",
              "      <td>0.465</td>\n",
              "      <td>0.465</td>\n",
              "      <td>42.178772</td>\n",
              "    </tr>\n",
              "    <tr>\n",
              "      <th>36</th>\n",
              "      <td>1</td>\n",
              "      <td>0</td>\n",
              "      <td>1</td>\n",
              "      <td>0</td>\n",
              "      <td>1</td>\n",
              "      <td>0</td>\n",
              "      <td>0</td>\n",
              "      <td>1</td>\n",
              "      <td>0</td>\n",
              "      <td>0.604</td>\n",
              "      <td>0.651</td>\n",
              "      <td>73.099556</td>\n",
              "    </tr>\n",
              "  </tbody>\n",
              "</table>\n",
              "</div>\n",
              "      <button class=\"colab-df-convert\" onclick=\"convertToInteractive('df-4eb3fe38-c10f-4ee4-8dfe-3756680625ce')\"\n",
              "              title=\"Convert this dataframe to an interactive table.\"\n",
              "              style=\"display:none;\">\n",
              "        \n",
              "  <svg xmlns=\"http://www.w3.org/2000/svg\" height=\"24px\"viewBox=\"0 0 24 24\"\n",
              "       width=\"24px\">\n",
              "    <path d=\"M0 0h24v24H0V0z\" fill=\"none\"/>\n",
              "    <path d=\"M18.56 5.44l.94 2.06.94-2.06 2.06-.94-2.06-.94-.94-2.06-.94 2.06-2.06.94zm-11 1L8.5 8.5l.94-2.06 2.06-.94-2.06-.94L8.5 2.5l-.94 2.06-2.06.94zm10 10l.94 2.06.94-2.06 2.06-.94-2.06-.94-.94-2.06-.94 2.06-2.06.94z\"/><path d=\"M17.41 7.96l-1.37-1.37c-.4-.4-.92-.59-1.43-.59-.52 0-1.04.2-1.43.59L10.3 9.45l-7.72 7.72c-.78.78-.78 2.05 0 2.83L4 21.41c.39.39.9.59 1.41.59.51 0 1.02-.2 1.41-.59l7.78-7.78 2.81-2.81c.8-.78.8-2.07 0-2.86zM5.41 20L4 18.59l7.72-7.72 1.47 1.35L5.41 20z\"/>\n",
              "  </svg>\n",
              "      </button>\n",
              "      \n",
              "  <style>\n",
              "    .colab-df-container {\n",
              "      display:flex;\n",
              "      flex-wrap:wrap;\n",
              "      gap: 12px;\n",
              "    }\n",
              "\n",
              "    .colab-df-convert {\n",
              "      background-color: #E8F0FE;\n",
              "      border: none;\n",
              "      border-radius: 50%;\n",
              "      cursor: pointer;\n",
              "      display: none;\n",
              "      fill: #1967D2;\n",
              "      height: 32px;\n",
              "      padding: 0 0 0 0;\n",
              "      width: 32px;\n",
              "    }\n",
              "\n",
              "    .colab-df-convert:hover {\n",
              "      background-color: #E2EBFA;\n",
              "      box-shadow: 0px 1px 2px rgba(60, 64, 67, 0.3), 0px 1px 3px 1px rgba(60, 64, 67, 0.15);\n",
              "      fill: #174EA6;\n",
              "    }\n",
              "\n",
              "    [theme=dark] .colab-df-convert {\n",
              "      background-color: #3B4455;\n",
              "      fill: #D2E3FC;\n",
              "    }\n",
              "\n",
              "    [theme=dark] .colab-df-convert:hover {\n",
              "      background-color: #434B5C;\n",
              "      box-shadow: 0px 1px 3px 1px rgba(0, 0, 0, 0.15);\n",
              "      filter: drop-shadow(0px 1px 2px rgba(0, 0, 0, 0.3));\n",
              "      fill: #FFFFFF;\n",
              "    }\n",
              "  </style>\n",
              "\n",
              "      <script>\n",
              "        const buttonEl =\n",
              "          document.querySelector('#df-4eb3fe38-c10f-4ee4-8dfe-3756680625ce button.colab-df-convert');\n",
              "        buttonEl.style.display =\n",
              "          google.colab.kernel.accessAllowed ? 'block' : 'none';\n",
              "\n",
              "        async function convertToInteractive(key) {\n",
              "          const element = document.querySelector('#df-4eb3fe38-c10f-4ee4-8dfe-3756680625ce');\n",
              "          const dataTable =\n",
              "            await google.colab.kernel.invokeFunction('convertToInteractive',\n",
              "                                                     [key], {});\n",
              "          if (!dataTable) return;\n",
              "\n",
              "          const docLinkHtml = 'Like what you see? Visit the ' +\n",
              "            '<a target=\"_blank\" href=https://colab.research.google.com/notebooks/data_table.ipynb>data table notebook</a>'\n",
              "            + ' to learn more about interactive tables.';\n",
              "          element.innerHTML = '';\n",
              "          dataTable['output_type'] = 'display_data';\n",
              "          await google.colab.output.renderOutput(dataTable, element);\n",
              "          const docLink = document.createElement('div');\n",
              "          docLink.innerHTML = docLinkHtml;\n",
              "          element.appendChild(docLink);\n",
              "        }\n",
              "      </script>\n",
              "    </div>\n",
              "  </div>\n",
              "  "
            ]
          },
          "metadata": {},
          "execution_count": 74
        }
      ]
    },
    {
      "cell_type": "code",
      "source": [
        "X = jnp.asarray(np.array(candy_power_data.drop(['chocolate'], axis=1)), dtype='float32')\n",
        "y = jnp.asarray(np.array(candy_power_data[['chocolate']]), dtype='bool').flatten() \n",
        "X.shape, y.shape"
      ],
      "metadata": {
        "colab": {
          "base_uri": "https://localhost:8080/"
        },
        "id": "e7GlQTvzF-GS",
        "outputId": "46e945ed-aa59-4fa6-fa5f-47cae500ea03"
      },
      "execution_count": 75,
      "outputs": [
        {
          "output_type": "execute_result",
          "data": {
            "text/plain": [
              "((85, 11), (85,))"
            ]
          },
          "metadata": {},
          "execution_count": 75
        }
      ]
    },
    {
      "cell_type": "code",
      "source": [
        "from sklearn.model_selection import train_test_split\n",
        "\n",
        "X_train, X_test, y_train, y_test = train_test_split(X, y, test_size=0.25, random_state=42) "
      ],
      "metadata": {
        "id": "eoTAN6QdLNVF"
      },
      "execution_count": 76,
      "outputs": []
    },
    {
      "cell_type": "code",
      "source": [
        "from tqdm.notebook import tqdm \n",
        "\n",
        "W, b = init_parameters(X_train) \n",
        "#print(update(W, b, X_train, y_train))\n",
        "\n",
        "for _ in tqdm(range(2_000), desc='Traininig...'):\n",
        "    W, b = update(W, b, X_train, y_train, lr=0.001) "
      ],
      "metadata": {
        "colab": {
          "base_uri": "https://localhost:8080/",
          "height": 49,
          "referenced_widgets": [
            "39cd5fa1a65c492aa8ff2698822ba170",
            "3323ba043a2048cb9820b18849e6895f",
            "bf9a8ceba3244d13af2018fbe8cdf2db",
            "906400535c9240d4bcf19068b944c603",
            "8fb035f652884ac99044885f572aaa32",
            "abaab539fb9a4573a0bff1acd4bf3c5f",
            "e2e240bbe1ee43bbaf420bdc1fbec5c4",
            "b4b9b5a849664ab796c4f6628a5b6974",
            "b702a036454241ec86c2311a259292c0",
            "6496e22f96ce408fb7614699e13ebd12",
            "91c0117e36a44c678ad571e7df241273"
          ]
        },
        "id": "wfCy5yfVLkxX",
        "outputId": "544b0c88-1fa7-44a9-cf8a-7cacd90785ac"
      },
      "execution_count": 80,
      "outputs": [
        {
          "output_type": "display_data",
          "data": {
            "text/plain": [
              "Traininig...:   0%|          | 0/2000 [00:00<?, ?it/s]"
            ],
            "application/vnd.jupyter.widget-view+json": {
              "version_major": 2,
              "version_minor": 0,
              "model_id": "39cd5fa1a65c492aa8ff2698822ba170"
            }
          },
          "metadata": {}
        }
      ]
    },
    {
      "cell_type": "code",
      "source": [
        "from sklearn.metrics import accuracy_score \n",
        "\n",
        "def lr_model_predictor(x: jaxlib.xla_extension.DeviceArray, W: jaxlib.xla_extension.DeviceArray=W, b: jaxlib.xla_extension.DeviceArray=b) -> bool:\n",
        "    pred = lr_model(x, W, b) \n",
        "    if pred > 0.5:\n",
        "        return True \n",
        "    return False \n",
        "\n",
        "preds = [] \n",
        "\n",
        "for i in range(len(X_test)):\n",
        "    preds.append(lr_model_predictor(X_test[i]))\n",
        "\n",
        "accuracy_score(preds, y_test) "
      ],
      "metadata": {
        "colab": {
          "base_uri": "https://localhost:8080/"
        },
        "id": "NOpef_YxOK3z",
        "outputId": "67866f79-78a3-4002-964c-52452987314b"
      },
      "execution_count": 81,
      "outputs": [
        {
          "output_type": "execute_result",
          "data": {
            "text/plain": [
              "0.9090909090909091"
            ]
          },
          "metadata": {},
          "execution_count": 81
        }
      ]
    },
    {
      "cell_type": "markdown",
      "source": [
        "## Neural Networks"
      ],
      "metadata": {
        "id": "7mycEElcSFwD"
      }
    },
    {
      "cell_type": "markdown",
      "source": [
        "### PyTrees\n"
      ],
      "metadata": {
        "id": "m8E9wpEXSKbV"
      }
    },
    {
      "cell_type": "code",
      "source": [
        "foo = [1, (2, 3), {'a': 4, 'b': 5, 'c': [3.14, (2.17, 6.28), [70, 80, 90]]}, [10, 20, 30, {'bar': 23}]] \n",
        "foo"
      ],
      "metadata": {
        "colab": {
          "base_uri": "https://localhost:8080/"
        },
        "id": "QvAxBsvkPfm-",
        "outputId": "a0b24fa5-f1a7-4c5c-bf1a-933438022899"
      },
      "execution_count": 82,
      "outputs": [
        {
          "output_type": "execute_result",
          "data": {
            "text/plain": [
              "[1,\n",
              " (2, 3),\n",
              " {'a': 4, 'b': 5, 'c': [3.14, (2.17, 6.28), [70, 80, 90]]},\n",
              " [10, 20, 30, {'bar': 23}]]"
            ]
          },
          "metadata": {},
          "execution_count": 82
        }
      ]
    },
    {
      "cell_type": "code",
      "source": [
        "import jax \n",
        "\n",
        "jax.tree_leaves(foo)"
      ],
      "metadata": {
        "colab": {
          "base_uri": "https://localhost:8080/"
        },
        "id": "rjIYk4D1SdC2",
        "outputId": "31dd5cc8-1261-484e-ddf1-9f47518c61b4"
      },
      "execution_count": 83,
      "outputs": [
        {
          "output_type": "execute_result",
          "data": {
            "text/plain": [
              "[1, 2, 3, 4, 5, 3.14, 2.17, 6.28, 70, 80, 90, 10, 20, 30, 23]"
            ]
          },
          "metadata": {},
          "execution_count": 83
        }
      ]
    },
    {
      "cell_type": "code",
      "source": [
        "jax.tree_map(lambda x: x**3, foo)"
      ],
      "metadata": {
        "colab": {
          "base_uri": "https://localhost:8080/"
        },
        "id": "Va3kBw_bSlGI",
        "outputId": "4fa55bfb-3f27-4392-c6f8-291228a0a88b"
      },
      "execution_count": 84,
      "outputs": [
        {
          "output_type": "execute_result",
          "data": {
            "text/plain": [
              "[1,\n",
              " (8, 27),\n",
              " {'a': 64,\n",
              "  'b': 125,\n",
              "  'c': [30.959144000000002,\n",
              "   (10.218312999999998, 247.67315200000002),\n",
              "   [343000, 512000, 729000]]},\n",
              " [1000, 8000, 27000, {'bar': 12167}]]"
            ]
          },
          "metadata": {},
          "execution_count": 84
        }
      ]
    },
    {
      "cell_type": "markdown",
      "source": [
        "See, how JAX easily operated on the leaf nodes, keeping the original structure of our pytree intact"
      ],
      "metadata": {
        "id": "rR3wjK3WS1IY"
      }
    },
    {
      "cell_type": "code",
      "source": [
        "import numpy as np\n",
        "import jax.numpy as jnp \n",
        "from typing import List, Dict \n",
        "\n",
        "def init_mlp_params(layer_widths: List) -> List[Dict]:\n",
        "    params = [] \n",
        "    for n_in, n_out in zip(layer_widths[:-1], layer_widths[1:]):\n",
        "        params.append(dict(\n",
        "            weights=np.random.normal(size=(n_in, n_out))*np.sqrt(2/n_in), \n",
        "            biases=np.ones(shape=(n_out,))\n",
        "            )\n",
        "        )\n",
        "    return params "
      ],
      "metadata": {
        "id": "pXN9OHoqSuor"
      },
      "execution_count": 95,
      "outputs": []
    },
    {
      "cell_type": "code",
      "source": [
        "params = init_mlp_params([1, 128, 128, 64, 64, 1]) \n",
        "jax.tree_map(lambda x: x.shape, params) "
      ],
      "metadata": {
        "colab": {
          "base_uri": "https://localhost:8080/"
        },
        "id": "rNH5ms5qT5O6",
        "outputId": "743182e5-c3ae-4c1a-efcd-b6f97d0a4fb8"
      },
      "execution_count": 106,
      "outputs": [
        {
          "output_type": "execute_result",
          "data": {
            "text/plain": [
              "[{'biases': (128,), 'weights': (1, 128)},\n",
              " {'biases': (128,), 'weights': (128, 128)},\n",
              " {'biases': (64,), 'weights': (128, 64)},\n",
              " {'biases': (64,), 'weights': (64, 64)},\n",
              " {'biases': (1,), 'weights': (64, 1)}]"
            ]
          },
          "metadata": {},
          "execution_count": 106
        }
      ]
    },
    {
      "cell_type": "code",
      "source": [
        "*hidden, last = params\n",
        "hidden"
      ],
      "metadata": {
        "colab": {
          "base_uri": "https://localhost:8080/"
        },
        "id": "5uMK9ltYV20a",
        "outputId": "de4523e9-f90e-40d5-c914-cfe3c5bce8f1"
      },
      "execution_count": 107,
      "outputs": [
        {
          "output_type": "execute_result",
          "data": {
            "text/plain": [
              "[{'biases': array([1., 1., 1., 1., 1., 1., 1., 1., 1., 1., 1., 1., 1., 1., 1., 1., 1.,\n",
              "         1., 1., 1., 1., 1., 1., 1., 1., 1., 1., 1., 1., 1., 1., 1., 1., 1.,\n",
              "         1., 1., 1., 1., 1., 1., 1., 1., 1., 1., 1., 1., 1., 1., 1., 1., 1.,\n",
              "         1., 1., 1., 1., 1., 1., 1., 1., 1., 1., 1., 1., 1., 1., 1., 1., 1.,\n",
              "         1., 1., 1., 1., 1., 1., 1., 1., 1., 1., 1., 1., 1., 1., 1., 1., 1.,\n",
              "         1., 1., 1., 1., 1., 1., 1., 1., 1., 1., 1., 1., 1., 1., 1., 1., 1.,\n",
              "         1., 1., 1., 1., 1., 1., 1., 1., 1., 1., 1., 1., 1., 1., 1., 1., 1.,\n",
              "         1., 1., 1., 1., 1., 1., 1., 1., 1.]),\n",
              "  'weights': array([[ 2.25863194e+00, -4.54558554e-01,  1.32739333e+00,\n",
              "          -7.29156018e-01,  3.55117267e+00,  5.03410410e+00,\n",
              "          -3.76055707e-01,  1.06885380e+00,  1.10549277e+00,\n",
              "           1.90541677e+00,  2.79150920e-03, -9.71902985e-01,\n",
              "          -2.70897483e+00, -3.19844379e-01,  6.55857790e-01,\n",
              "           1.17215154e+00, -8.07784797e-01,  1.79022598e+00,\n",
              "          -2.32836693e-01, -1.63955217e+00, -5.54059343e-01,\n",
              "           2.63883781e+00,  1.14352523e+00, -2.32998937e+00,\n",
              "           1.30073832e+00, -2.39203395e-01, -4.12137352e-01,\n",
              "          -5.91065007e-02,  6.08146054e-01, -6.43869752e-02,\n",
              "          -6.03047590e-01,  3.99992780e-02,  9.15253727e-01,\n",
              "          -2.14651777e+00, -7.62779617e-01, -9.66475087e-01,\n",
              "           5.10761400e-01,  1.14652161e+00,  2.31309908e+00,\n",
              "          -1.64603097e+00,  1.45098954e+00, -3.03023247e+00,\n",
              "           1.51535602e+00,  2.90586632e-01, -1.82080075e+00,\n",
              "           3.34052406e+00,  2.62387257e+00,  8.72198119e-01,\n",
              "          -3.49912305e-01,  5.41087365e-01, -4.27182204e-02,\n",
              "          -1.85416504e+00,  2.29353377e-01, -4.06047026e-01,\n",
              "           1.47119796e+00, -1.21305914e+00,  8.22551363e-01,\n",
              "           3.49236626e+00, -8.38251699e-01, -4.34529625e-01,\n",
              "          -1.53283487e+00, -1.86851946e+00,  2.09691984e+00,\n",
              "          -5.55138156e-01,  2.56657991e+00,  1.70168346e+00,\n",
              "          -2.44596127e+00, -5.60835955e-01, -1.24160963e+00,\n",
              "          -8.24212076e-02,  2.00695296e+00, -2.38772511e+00,\n",
              "          -6.50703866e-01, -1.08448956e+00, -4.67527483e-01,\n",
              "           1.46180231e+00,  2.61812366e+00,  6.48732658e-01,\n",
              "           2.73546031e+00, -1.91965915e+00,  3.42706622e-01,\n",
              "           2.32141691e+00,  3.21953649e-01,  3.68681213e-01,\n",
              "           1.89543820e+00,  1.34889044e+00, -2.15462358e-01,\n",
              "           9.07003808e-01, -1.66363400e+00,  1.55180660e+00,\n",
              "          -5.67777033e-01,  2.00831358e+00,  9.66045053e-01,\n",
              "          -7.94660077e-01, -1.51863209e+00, -1.39006988e+00,\n",
              "           7.38620902e-01, -4.21680809e-01,  5.25484786e-01,\n",
              "           2.10471014e+00, -1.47190790e+00, -9.10812019e-01,\n",
              "          -7.09358309e-01,  6.36775007e-01, -4.36060381e-01,\n",
              "           7.60705733e-01,  1.47525929e-01,  3.02719293e+00,\n",
              "           1.52577087e+00,  9.50506440e-01, -2.03467810e+00,\n",
              "           8.34814236e-01, -8.38184344e-01,  1.35338855e+00,\n",
              "          -1.23903099e+00, -6.55106586e-01,  7.65642220e-01,\n",
              "           5.96484809e-01,  4.59396657e-01,  2.48796821e-01,\n",
              "           2.04640727e+00,  1.44164231e+00,  1.75975971e+00,\n",
              "          -2.46846617e-01, -9.09151181e-02,  3.22636266e-01,\n",
              "           8.46754284e-01, -1.25681060e-01]])},\n",
              " {'biases': array([1., 1., 1., 1., 1., 1., 1., 1., 1., 1., 1., 1., 1., 1., 1., 1., 1.,\n",
              "         1., 1., 1., 1., 1., 1., 1., 1., 1., 1., 1., 1., 1., 1., 1., 1., 1.,\n",
              "         1., 1., 1., 1., 1., 1., 1., 1., 1., 1., 1., 1., 1., 1., 1., 1., 1.,\n",
              "         1., 1., 1., 1., 1., 1., 1., 1., 1., 1., 1., 1., 1., 1., 1., 1., 1.,\n",
              "         1., 1., 1., 1., 1., 1., 1., 1., 1., 1., 1., 1., 1., 1., 1., 1., 1.,\n",
              "         1., 1., 1., 1., 1., 1., 1., 1., 1., 1., 1., 1., 1., 1., 1., 1., 1.,\n",
              "         1., 1., 1., 1., 1., 1., 1., 1., 1., 1., 1., 1., 1., 1., 1., 1., 1.,\n",
              "         1., 1., 1., 1., 1., 1., 1., 1., 1.]),\n",
              "  'weights': array([[-0.01659252,  0.1751141 , -0.00485088, ..., -0.13450055,\n",
              "          -0.17864769, -0.0153371 ],\n",
              "         [-0.25758605, -0.20191805, -0.25274184, ..., -0.21816229,\n",
              "          -0.2306512 , -0.09373911],\n",
              "         [ 0.23087181, -0.04028749,  0.29032414, ..., -0.05908154,\n",
              "           0.23634252,  0.08130059],\n",
              "         ...,\n",
              "         [ 0.09371676,  0.02497674, -0.07463688, ..., -0.13421283,\n",
              "           0.11844401,  0.15489972],\n",
              "         [ 0.08330696,  0.09076725,  0.03014009, ...,  0.09206345,\n",
              "           0.12334869, -0.09795146],\n",
              "         [-0.04246459,  0.09942188, -0.00552588, ..., -0.07832064,\n",
              "          -0.03390354, -0.03888943]])},\n",
              " {'biases': array([1., 1., 1., 1., 1., 1., 1., 1., 1., 1., 1., 1., 1., 1., 1., 1., 1.,\n",
              "         1., 1., 1., 1., 1., 1., 1., 1., 1., 1., 1., 1., 1., 1., 1., 1., 1.,\n",
              "         1., 1., 1., 1., 1., 1., 1., 1., 1., 1., 1., 1., 1., 1., 1., 1., 1.,\n",
              "         1., 1., 1., 1., 1., 1., 1., 1., 1., 1., 1., 1., 1.]),\n",
              "  'weights': array([[ 0.11833897, -0.11128778,  0.07870442, ..., -0.03278477,\n",
              "          -0.06283151,  0.12782132],\n",
              "         [-0.0981429 ,  0.07465838,  0.04437627, ..., -0.18494506,\n",
              "           0.14841942,  0.06669385],\n",
              "         [-0.12097438, -0.0337167 ,  0.07422884, ...,  0.21216811,\n",
              "           0.1383013 ,  0.03503431],\n",
              "         ...,\n",
              "         [-0.2434717 , -0.06894803, -0.04890554, ..., -0.08539048,\n",
              "          -0.1341046 , -0.08807576],\n",
              "         [ 0.20428989,  0.12038469, -0.13915476, ..., -0.03899737,\n",
              "          -0.07328204, -0.10333073],\n",
              "         [ 0.05497855,  0.06781781, -0.3006924 , ...,  0.07016704,\n",
              "           0.01187676, -0.25063996]])},\n",
              " {'biases': array([1., 1., 1., 1., 1., 1., 1., 1., 1., 1., 1., 1., 1., 1., 1., 1., 1.,\n",
              "         1., 1., 1., 1., 1., 1., 1., 1., 1., 1., 1., 1., 1., 1., 1., 1., 1.,\n",
              "         1., 1., 1., 1., 1., 1., 1., 1., 1., 1., 1., 1., 1., 1., 1., 1., 1.,\n",
              "         1., 1., 1., 1., 1., 1., 1., 1., 1., 1., 1., 1., 1.]),\n",
              "  'weights': array([[-0.09168914,  0.07997357, -0.02540234, ..., -0.10110743,\n",
              "          -0.19437837, -0.23360664],\n",
              "         [-0.24235206, -0.22135248,  0.08118854, ...,  0.11063662,\n",
              "          -0.14395084,  0.05987801],\n",
              "         [ 0.13661004, -0.02516803, -0.18573698, ...,  0.16088315,\n",
              "          -0.0649226 , -0.04200091],\n",
              "         ...,\n",
              "         [ 0.21223797,  0.18108034,  0.09184653, ..., -0.15573777,\n",
              "          -0.17987321, -0.12981853],\n",
              "         [ 0.11918382,  0.02023075, -0.13666509, ..., -0.07891986,\n",
              "           0.17278194, -0.16606573],\n",
              "         [-0.07899299, -0.08681297, -0.01083866, ..., -0.05916476,\n",
              "           0.09433647,  0.31236171]])}]"
            ]
          },
          "metadata": {},
          "execution_count": 107
        }
      ]
    },
    {
      "cell_type": "code",
      "source": [
        "last"
      ],
      "metadata": {
        "colab": {
          "base_uri": "https://localhost:8080/"
        },
        "id": "M_g2WqATWlOs",
        "outputId": "a5545437-5ac3-4ff2-cf7f-09e6ea71012e"
      },
      "execution_count": 108,
      "outputs": [
        {
          "output_type": "execute_result",
          "data": {
            "text/plain": [
              "{'biases': array([1.]), 'weights': array([[ 0.06178727],\n",
              "        [ 0.30979265],\n",
              "        [-0.15162702],\n",
              "        [ 0.08182167],\n",
              "        [-0.10239129],\n",
              "        [ 0.26765036],\n",
              "        [ 0.0597202 ],\n",
              "        [-0.24467291],\n",
              "        [ 0.03285603],\n",
              "        [-0.17302812],\n",
              "        [-0.15397801],\n",
              "        [ 0.06498188],\n",
              "        [-0.06937387],\n",
              "        [ 0.03144477],\n",
              "        [-0.10651653],\n",
              "        [ 0.282702  ],\n",
              "        [-0.16320706],\n",
              "        [-0.12114941],\n",
              "        [ 0.08486167],\n",
              "        [ 0.02251873],\n",
              "        [-0.07716622],\n",
              "        [-0.02855237],\n",
              "        [ 0.00533469],\n",
              "        [ 0.13597024],\n",
              "        [ 0.34264675],\n",
              "        [-0.0837358 ],\n",
              "        [-0.03883733],\n",
              "        [-0.32521678],\n",
              "        [ 0.26636622],\n",
              "        [ 0.13182335],\n",
              "        [ 0.20996659],\n",
              "        [ 0.16324565],\n",
              "        [-0.14098715],\n",
              "        [-0.22325694],\n",
              "        [ 0.28130395],\n",
              "        [-0.15285365],\n",
              "        [-0.05401144],\n",
              "        [ 0.16919607],\n",
              "        [-0.08435965],\n",
              "        [-0.10038505],\n",
              "        [ 0.01035806],\n",
              "        [ 0.1732856 ],\n",
              "        [-0.29955046],\n",
              "        [ 0.03139629],\n",
              "        [-0.23954929],\n",
              "        [ 0.12790743],\n",
              "        [-0.07583541],\n",
              "        [-0.06748888],\n",
              "        [-0.02620982],\n",
              "        [ 0.30582904],\n",
              "        [ 0.11817797],\n",
              "        [-0.07168944],\n",
              "        [-0.14199857],\n",
              "        [-0.08430508],\n",
              "        [ 0.34369434],\n",
              "        [ 0.00276537],\n",
              "        [ 0.30345049],\n",
              "        [-0.31232726],\n",
              "        [ 0.22769396],\n",
              "        [-0.35389682],\n",
              "        [ 0.23533602],\n",
              "        [ 0.10940603],\n",
              "        [ 0.19989968],\n",
              "        [-0.03475231]])}"
            ]
          },
          "metadata": {},
          "execution_count": 108
        }
      ]
    },
    {
      "cell_type": "code",
      "source": [
        "@jax.jit \n",
        "def forward(params: list, x: jaxlib.xla_extension.DeviceArray) -> jaxlib.xla_extension.DeviceArray:\n",
        "    *hidden, last = params \n",
        "    for layer in hidden:\n",
        "        x = jax.nn.relu(x @ layer['weights'] + layer['biases']) \n",
        "    return x @ last['weights'] + last['biases']\n",
        "\n",
        "@jax.jit \n",
        "def loss_fn(params:list, x: jaxlib.xla_extension.DeviceArray, y: jaxlib.xla_extension.DeviceArray) -> jaxlib.xla_extension.DeviceArray:\n",
        "    pred = forward(params, x)\n",
        "    return jnp.mean((pred - y)**2) \n",
        "\n",
        "@jax.jit \n",
        "def update(params: list, x: jaxlib.xla_extension.DeviceArray, y: jaxlib.xla_extension.DeviceArray, lr: float=0.0001) -> list:\n",
        "    grads = jax.grad(loss_fn)(params, x, y) \n",
        "    return jax.tree_multimap(lambda p, g: p - lr * g, params, grads) "
      ],
      "metadata": {
        "id": "nXxBYn3QUD0a"
      },
      "execution_count": 121,
      "outputs": []
    },
    {
      "cell_type": "code",
      "source": [
        "xs = np.random.normal(size=(1000, 1))\n",
        "ys = 0.5 * (xs + 1) ** 3\n",
        "\n",
        "params = init_mlp_params([1, 128, 64, 64, 1]) \n",
        "grads = jax.grad(loss_fn)(params, xs, ys) \n",
        "jax.tree_map(lambda x: x.shape, grads) "
      ],
      "metadata": {
        "colab": {
          "base_uri": "https://localhost:8080/"
        },
        "id": "xbgDGqlJWs2w",
        "outputId": "e540b7d7-ca5e-4941-f6bb-e666677be10f"
      },
      "execution_count": 122,
      "outputs": [
        {
          "output_type": "execute_result",
          "data": {
            "text/plain": [
              "[{'biases': (128,), 'weights': (1, 128)},\n",
              " {'biases': (64,), 'weights': (128, 64)},\n",
              " {'biases': (64,), 'weights': (64, 64)},\n",
              " {'biases': (1,), 'weights': (64, 1)}]"
            ]
          },
          "metadata": {},
          "execution_count": 122
        }
      ]
    },
    {
      "cell_type": "code",
      "source": [
        "import matplotlib.pyplot as plt \n",
        "from tqdm.notebook import tqdm \n",
        "\n",
        "xs = np.random.normal(size=(1000, 1))\n",
        "ys = 0.5 * (xs + 1) ** 3\n",
        "\n",
        "layer_widths = [1, 128, 128, 64, 64, 1]\n",
        "params = init_mlp_params(layer_widths)\n",
        "\n",
        "for _ in tqdm(range(1000), desc='training...'):\n",
        "    params = update(params, xs, ys) \n",
        "\n",
        "plt.scatter(xs, ys, label='data') \n",
        "plt.scatter(xs, forward(params, xs), label='pred') \n",
        "plt.legend() \n",
        "plt.title('Neural Network') \n",
        "plt.show() "
      ],
      "metadata": {
        "colab": {
          "base_uri": "https://localhost:8080/",
          "height": 313,
          "referenced_widgets": [
            "c9f07b0465204fdd9a23daee3fb8c151",
            "56c0b4db76224391ae5515ab16b60ad3",
            "b34b62e9ef5d46c2b86f4b0b9e2c9d7a",
            "b263c3c61de8414c9cfea620d6e3d78d",
            "347ff6cddff843a3b08962984ac59bd4",
            "3b9f37d6289e4cf2a8a00d2b2b75fde0",
            "6a2b755b72c345de93c47ebc54889d2a",
            "1f90f34797ad45b18a2797e26c870caa",
            "321afc3e0b9346fe8efa107dd3c98f67",
            "a235ef31429241d5831a5d3c054e64dd",
            "c76bde5c7c4647dea5b70cec7d8064da"
          ]
        },
        "id": "i5Q76SRWWy1P",
        "outputId": "fe4601bb-b339-4654-d3b1-eae6ddf1e60f"
      },
      "execution_count": 123,
      "outputs": [
        {
          "output_type": "display_data",
          "data": {
            "text/plain": [
              "training...:   0%|          | 0/1000 [00:00<?, ?it/s]"
            ],
            "application/vnd.jupyter.widget-view+json": {
              "version_major": 2,
              "version_minor": 0,
              "model_id": "c9f07b0465204fdd9a23daee3fb8c151"
            }
          },
          "metadata": {}
        },
        {
          "output_type": "display_data",
          "data": {
            "text/plain": [
              "<Figure size 432x288 with 1 Axes>"
            ],
            "image/png": "[encoded data removed]"
          },
          "metadata": {
            "needs_background": "light"
          }
        }
      ]
    },
    {
      "cell_type": "code",
      "source": [
        ""
      ],
      "metadata": {
        "id": "Hg2kD734bxyq"
      },
      "execution_count": null,
      "outputs": []
    }
  ]
}