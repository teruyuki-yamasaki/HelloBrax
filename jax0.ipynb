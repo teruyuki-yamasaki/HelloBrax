{
  "nbformat": 4,
  "nbformat_minor": 0,
  "metadata": {
    "colab": {
      "name": "jax0.ipynb",
      "provenance": [],
      "authorship_tag": "ABX9TyN/L8poDb4xuDjvluBNNk6f",
      "include_colab_link": true
    },
    "kernelspec": {
      "name": "python3",
      "display_name": "Python 3"
    },
    "language_info": {
      "name": "python"
    },
    "accelerator": "GPU"
  },
  "cells": [
    {
      "cell_type": "markdown",
      "metadata": {
        "id": "view-in-github",
        "colab_type": "text"
      },
      "source": [
        "<a href=\"https://colab.research.google.com/github/teruyuki-yamasaki/HelloBrax/blob/main/jax0.ipynb\" target=\"_parent\"><img src=\"https://colab.research.google.com/assets/colab-badge.svg\" alt=\"Open In Colab\"/></a>"
      ]
    },
    {
      "cell_type": "markdown",
      "source": [
        "[Learn JAX: From Linear Regression to Neural Networks](https://www.kaggle.com/code/truthr/jax-0)\n",
        "\n",
        "\n",
        "\n",
        "In this Notebook, you will learn how to work with JAX. There are no theory sections here. Here, you will learn stuff as you need it. Just-in-time learning, if you wish! This Notebook will contain three chapters. In these Notebooks, you will learn how to implement and use algorithms in JAX.\n",
        "\n",
        "Table of Contents\n",
        "\n",
        "0. A Brief Introduction to JAX\n",
        "0.1. Autograd\n",
        "0.2. XLA\n",
        "0.3. Composable Transforms\n",
        "0.4. JIT, or Just-In-Time Compilation\n",
        "0.5. Getting to Programming with JAX\n",
        "0.6. The grad method -  \n",
        "∇\n",
        " \n",
        "1. Linear Regression\n",
        "1.1. A Toy Example of Linear Regression\n",
        "1.2. Solving a Real World Problem with Linear Regression\n",
        "2. Logistic Regression with JAX\n",
        "2.1. Pseudo Random Numbers in JAX\n",
        "2.2. Implementing Logistic Regression\n",
        "2.3. Solving a Problem with Logistic Regression\n",
        "3. Training a Neural Network with JAX\n",
        "Where to Go From Here\n",
        "Citations and References\n",
        "I will briefly go over the theories, and then their implementations in JAX.\n",
        "\n"
      ],
      "metadata": {
        "id": "NLa3WWV1XInt"
      }
    },
    {
      "cell_type": "markdown",
      "source": [
        "\n",
        "\n",
        "## Chapter 0: A Brief Introduction to JAX\n",
        "According to the documentation of the project,\n",
        "\n",
        "JAX is Autograd and XLA, brought together for high-performance numerical computing and machine learning research. It provides composable transformations of Python+NumPy programs: differentiate, vectorize, parallelize, Just-In-Time compile to GPU/TPU, and more.\n",
        "\n",
        "\n",
        "### Section 0.1: What is Autograd?\n",
        "Here, Autograd is a specific library. In general, autograd refers to automatic differentiation. In each Deep Learning library, it is essential for the library to calculate the gradients of parameters to be able to backpropagate through them for optimization and update of those parameters to make the model do things that we want. The library that it talks about can automatically differentiate native Python and Numpy code. It can also handle a large subset of Python's features, including loops, ifs, recursion and closures.\n",
        "\n",
        "\n",
        "### Section 0.2: What is XLA?\n",
        "XLA (Accelerated Linear Algebra) is a compiler that compiles written code to accelerators such as GPU and TPU without any code change. When a code in any library such as PyTorch, TensorFlow, etc. is run where there are many components to it, the computation graph launches as many kernels. This is inefficient, and slow. Instead, XLA compiles all the code to an accelerator, where it is run very fast.\n",
        "```\n",
        "def model_fn(x, y, z):\n",
        "    return tf.reduce_sum(x + y * z)\n",
        "```\n",
        "The above function launches three kernels- one each for the addition, the multiplication, and the reduction. (Code from TensorFlow XLA doc).\n",
        "\n",
        "In JAX, Autograd and XLA are brought together, so that automatic-differentiation and compilation to GPU/TPU happen together to provide a very sophisticated, easy to use experience for Deep Learning research and development.\n",
        "\n",
        "### Section 0.3: Composable Transformations\n",
        "JAX is functional by design. Here, you can one transformation on top of the other very easily. It is common to see code like-\n",
        "\n",
        "```\n",
        "grad(jit(grad(jit(grad(np.tanh)))))(1.0)\n",
        "```\n",
        "\n",
        "Note that, in the code, the (1.0) is outside of the parens that change the function. The function itself is getting changed, and not the output of one function is being switched to the next in the line. This is why it is called \"composable transforms\"- the functions themselves get composed.\n",
        "\n",
        "### Section 0.4: JIT, or Just-In-Time Compilation\n",
        "JAX provides you with capabilities to Just-In-Time compile specific functions that will be compiled and ran during the runtime, and not before runtime. You might worry about the overhead costs of compiling functions, but Deep Learning libraries are the ideal place for JIT-compiled functions as functions are called many times over the course of training. So, it's basically- compiled once, ran many times. We will see JIT in action throughout this Notebook."
      ],
      "metadata": {
        "id": "qV4xrw4MWX67"
      }
    },
    {
      "cell_type": "markdown",
      "source": [
        ""
      ],
      "metadata": {
        "id": "ObQgHqKEWpMv"
      }
    },
    {
      "cell_type": "code",
      "source": [
        "import jax \n",
        "import jaxlib \n",
        "import jax.numpy as jnp "
      ],
      "metadata": {
        "id": "K0sifydFXy-d"
      },
      "execution_count": 1,
      "outputs": []
    },
    {
      "cell_type": "code",
      "source": [
        "x = jnp.arange(5) \n",
        "print(x) "
      ],
      "metadata": {
        "colab": {
          "base_uri": "https://localhost:8080/"
        },
        "id": "M300GHCDX27G",
        "outputId": "0f95a76f-63f9-49af-b72d-f57513f004b1"
      },
      "execution_count": 2,
      "outputs": [
        {
          "output_type": "stream",
          "name": "stdout",
          "text": [
            "[0 1 2 3 4]\n"
          ]
        }
      ]
    },
    {
      "cell_type": "code",
      "source": [
        "x"
      ],
      "metadata": {
        "colab": {
          "base_uri": "https://localhost:8080/"
        },
        "id": "dNWK6EY_X6n3",
        "outputId": "6e7b7af6-75e4-4d17-e0c6-8f4dbe06b6a6"
      },
      "execution_count": 3,
      "outputs": [
        {
          "output_type": "execute_result",
          "data": {
            "text/plain": [
              "DeviceArray([0, 1, 2, 3, 4], dtype=int32)"
            ]
          },
          "metadata": {},
          "execution_count": 3
        }
      ]
    },
    {
      "cell_type": "code",
      "source": [
        "x, type(x)"
      ],
      "metadata": {
        "colab": {
          "base_uri": "https://localhost:8080/"
        },
        "id": "pYrSXaw8YC_V",
        "outputId": "bcd85587-bd5a-4975-b9d4-02b8f871313c"
      },
      "execution_count": 4,
      "outputs": [
        {
          "output_type": "execute_result",
          "data": {
            "text/plain": [
              "(DeviceArray([0, 1, 2, 3, 4], dtype=int32), jaxlib.xla_extension.DeviceArray)"
            ]
          },
          "metadata": {},
          "execution_count": 4
        }
      ]
    },
    {
      "cell_type": "code",
      "source": [
        ""
      ],
      "metadata": {
        "id": "y6_lDh8WYFep"
      },
      "execution_count": null,
      "outputs": []
    },
    {
      "cell_type": "markdown",
      "source": [
        "### Section 0.6: The `grad` method -  \n",
        "∇\n",
        " \n",
        "Here we see a JAX function for the first time. As we have seen in Section 0.3, JAX allows you change functions. jax.grad is a function that takes a numerical function written in Python, and then returns a function that computes the gradient of the original function. Yes, the function gets changed. We are dealing with higher order funtions here. This might be weird to many, but to anyone who has calculated differentials by hand, this is really natural.\n",
        "\n",
        "In PyTorch, the differentiation of a function is always linked to the data. Differentiation does not mean anything until you calculate it at some point. Let's see how differentiation differs in JAX from PyTorch."
      ],
      "metadata": {
        "id": "W4fJ3VmgYS_G"
      }
    },
    {
      "cell_type": "code",
      "source": [
        "import torch \n",
        "\n",
        "tensor_a = torch.arange(1, 25., requires_grad=True) \n",
        "tensor_a "
      ],
      "metadata": {
        "colab": {
          "base_uri": "https://localhost:8080/"
        },
        "id": "EuYfXcPEYVoC",
        "outputId": "9bc44b71-bb28-4934-f998-e85ed7f23997"
      },
      "execution_count": 5,
      "outputs": [
        {
          "output_type": "execute_result",
          "data": {
            "text/plain": [
              "tensor([ 1.,  2.,  3.,  4.,  5.,  6.,  7.,  8.,  9., 10., 11., 12., 13., 14.,\n",
              "        15., 16., 17., 18., 19., 20., 21., 22., 23., 24.], requires_grad=True)"
            ]
          },
          "metadata": {},
          "execution_count": 5
        }
      ]
    },
    {
      "cell_type": "code",
      "source": [
        "def sum_of_squares_torch(n: torch.Tensor) -> torch.Tensor:\n",
        "    return torch.sum(torch.pow(n, 2)) "
      ],
      "metadata": {
        "id": "0mYZBvbfYjCa"
      },
      "execution_count": 11,
      "outputs": []
    },
    {
      "cell_type": "code",
      "source": [
        "b = sum_of_squares_torch(tensor_a) \n",
        "b"
      ],
      "metadata": {
        "colab": {
          "base_uri": "https://localhost:8080/"
        },
        "id": "Y1MBdsIQYz6P",
        "outputId": "7cd4ac56-5dbb-468b-e0ca-0d438fa8a946"
      },
      "execution_count": 12,
      "outputs": [
        {
          "output_type": "execute_result",
          "data": {
            "text/plain": [
              "tensor(4900., grad_fn=<SumBackward0>)"
            ]
          },
          "metadata": {},
          "execution_count": 12
        }
      ]
    },
    {
      "cell_type": "code",
      "source": [
        "b.backward() \n",
        "print(tensor_a.grad) \n",
        "print(tensor_a) "
      ],
      "metadata": {
        "colab": {
          "base_uri": "https://localhost:8080/"
        },
        "id": "FHyeV5UXY4Am",
        "outputId": "6bdb1bc1-fae1-4de3-af92-3ba2f61ef948"
      },
      "execution_count": 9,
      "outputs": [
        {
          "output_type": "stream",
          "name": "stdout",
          "text": [
            "tensor([ 2.,  4.,  6.,  8., 10., 12., 14., 16., 18., 20., 22., 24., 26., 28.,\n",
            "        30., 32., 34., 36., 38., 40., 42., 44., 46., 48.])\n",
            "tensor([ 1.,  2.,  3.,  4.,  5.,  6.,  7.,  8.,  9., 10., 11., 12., 13., 14.,\n",
            "        15., 16., 17., 18., 19., 20., 21., 22., 23., 24.], requires_grad=True)\n"
          ]
        }
      ]
    },
    {
      "cell_type": "code",
      "source": [
        "import matplotlib.pyplot as plt \n",
        "\n",
        "xs = tensor_a.detach().numpy() \n",
        "ys = xs ** 2 \n",
        "y_dash = 2 * xs\n",
        "\n",
        "plt.plot(xs, ys, label='the function') \n",
        "plt.plot(xs, y_dash, label='the tangent') \n",
        "plt.legend() \n",
        "plt.title('$x^2$ and $2x$')\n",
        "plt.show() "
      ],
      "metadata": {
        "colab": {
          "base_uri": "https://localhost:8080/",
          "height": 285
        },
        "id": "6_nZkviyZEW9",
        "outputId": "8f3ee8cd-1186-4fb0-d881-494c8a7cfbbe"
      },
      "execution_count": 10,
      "outputs": [
        {
          "output_type": "display_data",
          "data": {
            "text/plain": [
              "<Figure size 432x288 with 1 Axes>"
            ],
            "image/png": "[encoded data removed]"
          },
          "metadata": {
            "needs_background": "light"
          }
        }
      ]
    },
    {
      "cell_type": "code",
      "source": [
        "def sum_of_squares_jax(x: jaxlib.xla_extension.DeviceArray) -> jaxlib.xla_extension.DeviceArray:\n",
        "    return jnp.sum(x ** 2) "
      ],
      "metadata": {
        "id": "sr1FIpiuZmaS"
      },
      "execution_count": 13,
      "outputs": []
    },
    {
      "cell_type": "code",
      "source": [
        "tensor_a = jnp.arange(1, 25.) \n",
        "tensor_a"
      ],
      "metadata": {
        "colab": {
          "base_uri": "https://localhost:8080/"
        },
        "id": "HccZz8PUaKH-",
        "outputId": "8733a087-14c6-45a2-9e55-26538d01a220"
      },
      "execution_count": 14,
      "outputs": [
        {
          "output_type": "execute_result",
          "data": {
            "text/plain": [
              "DeviceArray([ 1.,  2.,  3.,  4.,  5.,  6.,  7.,  8.,  9., 10., 11., 12.,\n",
              "             13., 14., 15., 16., 17., 18., 19., 20., 21., 22., 23., 24.],            dtype=float32)"
            ]
          },
          "metadata": {},
          "execution_count": 14
        }
      ]
    },
    {
      "cell_type": "code",
      "source": [
        "sum_of_squares_jax(tensor_a) "
      ],
      "metadata": {
        "colab": {
          "base_uri": "https://localhost:8080/"
        },
        "id": "AJ9gQSN7aR5T",
        "outputId": "4631e199-d9ce-4aab-e703-49b033907fd8"
      },
      "execution_count": 15,
      "outputs": [
        {
          "output_type": "execute_result",
          "data": {
            "text/plain": [
              "DeviceArray(4900., dtype=float32)"
            ]
          },
          "metadata": {},
          "execution_count": 15
        }
      ]
    },
    {
      "cell_type": "code",
      "source": [
        "sum_of_squares_dx = jax.grad(sum_of_squares_jax) "
      ],
      "metadata": {
        "id": "_qJa9x7NaW6K"
      },
      "execution_count": 16,
      "outputs": []
    },
    {
      "cell_type": "code",
      "source": [
        "sum_of_squares_dx(tensor_a) "
      ],
      "metadata": {
        "colab": {
          "base_uri": "https://localhost:8080/"
        },
        "id": "-Qs3pInqadLz",
        "outputId": "821e1f7d-7c76-4c3f-9efe-b974231abc51"
      },
      "execution_count": 18,
      "outputs": [
        {
          "output_type": "execute_result",
          "data": {
            "text/plain": [
              "DeviceArray([ 2.,  4.,  6.,  8., 10., 12., 14., 16., 18., 20., 22., 24.,\n",
              "             26., 28., 30., 32., 34., 36., 38., 40., 42., 44., 46., 48.],            dtype=float32)"
            ]
          },
          "metadata": {},
          "execution_count": 18
        }
      ]
    },
    {
      "cell_type": "code",
      "source": [
        ""
      ],
      "metadata": {
        "id": "q9XGN2loag3V"
      },
      "execution_count": null,
      "outputs": []
    }
  ]
}